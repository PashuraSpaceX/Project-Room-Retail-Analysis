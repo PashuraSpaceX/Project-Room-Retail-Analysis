{
 "cells": [
  {
   "cell_type": "markdown",
   "metadata": {},
   "source": [
    "# Исследование объявлений о продаже квартир\n",
    "\n",
    "В вашем распоряжении данные сервиса Яндекс.Недвижимость — архив объявлений о продаже квартир в Санкт-Петербурге и соседних населённых пунктов за несколько лет. Нужно научиться определять рыночную стоимость объектов недвижимости. Ваша задача — установить параметры. Это позволит построить автоматизированную систему: она отследит аномалии и мошенническую деятельность. \n",
    "\n",
    "По каждой квартире на продажу доступны два вида данных. Первые вписаны пользователем, вторые — получены автоматически на основе картографических данных. Например, расстояние до центра, аэропорта, ближайшего парка и водоёма. "
   ]
  },
  {
   "cell_type": "markdown",
   "metadata": {},
   "source": [
    "### Откройте файл с данными и изучите общую информацию. "
   ]
  },
  {
   "cell_type": "code",
   "execution_count": 94,
   "metadata": {},
   "outputs": [],
   "source": [
    "import pandas as pd\n",
    "data = pd.read_csv('/datasets/real_estate_data.csv', sep='\\t', decimal=',')\n",
    "#print(data.head())"
   ]
  },
  {
   "cell_type": "code",
   "execution_count": 95,
   "metadata": {},
   "outputs": [
    {
     "name": "stdout",
     "output_type": "stream",
     "text": [
      "<class 'pandas.core.frame.DataFrame'>\n",
      "RangeIndex: 23699 entries, 0 to 23698\n",
      "Data columns (total 22 columns):\n",
      " #   Column                Non-Null Count  Dtype \n",
      "---  ------                --------------  ----- \n",
      " 0   total_images          23699 non-null  int64 \n",
      " 1   last_price            23699 non-null  object\n",
      " 2   total_area            23699 non-null  object\n",
      " 3   first_day_exposition  23699 non-null  object\n",
      " 4   rooms                 23699 non-null  int64 \n",
      " 5   ceiling_height        14504 non-null  object\n",
      " 6   floors_total          23613 non-null  object\n",
      " 7   living_area           21796 non-null  object\n",
      " 8   floor                 23699 non-null  int64 \n",
      " 9   is_apartment          2775 non-null   object\n",
      " 10  studio                23699 non-null  bool  \n",
      " 11  open_plan             23699 non-null  bool  \n",
      " 12  kitchen_area          21421 non-null  object\n",
      " 13  balcony               12180 non-null  object\n",
      " 14  locality_name         23650 non-null  object\n",
      " 15  airports_nearest      18157 non-null  object\n",
      " 16  cityCenters_nearest   18180 non-null  object\n",
      " 17  parks_around3000      18181 non-null  object\n",
      " 18  parks_nearest         8079 non-null   object\n",
      " 19  ponds_around3000      18181 non-null  object\n",
      " 20  ponds_nearest         9110 non-null   object\n",
      " 21  days_exposition       20518 non-null  object\n",
      "dtypes: bool(2), int64(3), object(17)\n",
      "memory usage: 3.7+ MB\n"
     ]
    }
   ],
   "source": [
    "data.info()"
   ]
  },
  {
   "cell_type": "code",
   "execution_count": 96,
   "metadata": {},
   "outputs": [
    {
     "data": {
      "text/plain": [
       "array([[<AxesSubplot:title={'center':'total_images'}>,\n",
       "        <AxesSubplot:title={'center':'rooms'}>],\n",
       "       [<AxesSubplot:title={'center':'floor'}>, <AxesSubplot:>]],\n",
       "      dtype=object)"
      ]
     },
     "execution_count": 96,
     "metadata": {},
     "output_type": "execute_result"
    },
    {
     "data": {
      "image/png": "[encoded data removed]",
      "text/plain": [
       "<Figure size 1080x1440 with 4 Axes>"
      ]
     },
     "metadata": {
      "needs_background": "light"
     },
     "output_type": "display_data"
    }
   ],
   "source": [
    "data.hist(figsize=(15,20))"
   ]
  },
  {
   "cell_type": "markdown",
   "metadata": {},
   "source": [
    "<b>Вывод <br>\n",
    "Большая часть данных не в правильном типе (object), далее будет необходимо подправить типы данных. <br>\n",
    "Присудствует множество пропусков в части колонок, необходимо провести работу по устранению пропусков.<br>\n",
    "Т.к данные не в обходимом типе выбросы и аномалии будут устранены во время предобработки данных.   <b>"
   ]
  },
  {
   "cell_type": "markdown",
   "metadata": {},
   "source": [
    "### Предобработка данных"
   ]
  },
  {
   "cell_type": "markdown",
   "metadata": {},
   "source": [
    "Преобразуем пропуски значений в столбцах"
   ]
  },
  {
   "cell_type": "code",
   "execution_count": 97,
   "metadata": {},
   "outputs": [
    {
     "data": {
      "text/plain": [
       "total_images                0\n",
       "last_price                  0\n",
       "total_area                  0\n",
       "first_day_exposition        0\n",
       "rooms                       0\n",
       "ceiling_height           9195\n",
       "floors_total               86\n",
       "living_area              1903\n",
       "floor                       0\n",
       "is_apartment            20924\n",
       "studio                      0\n",
       "open_plan                   0\n",
       "kitchen_area             2278\n",
       "balcony                 11519\n",
       "locality_name              49\n",
       "airports_nearest         5542\n",
       "cityCenters_nearest      5519\n",
       "parks_around3000         5518\n",
       "parks_nearest           15620\n",
       "ponds_around3000         5518\n",
       "ponds_nearest           14589\n",
       "days_exposition          3181\n",
       "dtype: int64"
      ]
     },
     "execution_count": 97,
     "metadata": {},
     "output_type": "execute_result"
    }
   ],
   "source": [
    "data.isna().sum() # проверяем на None & NaN"
   ]
  },
  {
   "cell_type": "code",
   "execution_count": 98,
   "metadata": {},
   "outputs": [
    {
     "data": {
      "text/html": [
       "<div>\n",
       "<style scoped>\n",
       "    .dataframe tbody tr th:only-of-type {\n",
       "        vertical-align: middle;\n",
       "    }\n",
       "\n",
       "    .dataframe tbody tr th {\n",
       "        vertical-align: top;\n",
       "    }\n",
       "\n",
       "    .dataframe thead th {\n",
       "        text-align: right;\n",
       "    }\n",
       "</style>\n",
       "<table border=\"1\" class=\"dataframe\">\n",
       "  <thead>\n",
       "    <tr style=\"text-align: right;\">\n",
       "      <th></th>\n",
       "      <th>total_images</th>\n",
       "      <th>last_price</th>\n",
       "      <th>total_area</th>\n",
       "      <th>first_day_exposition</th>\n",
       "      <th>rooms</th>\n",
       "      <th>ceiling_height</th>\n",
       "      <th>floors_total</th>\n",
       "      <th>living_area</th>\n",
       "      <th>floor</th>\n",
       "      <th>is_apartment</th>\n",
       "      <th>...</th>\n",
       "      <th>kitchen_area</th>\n",
       "      <th>balcony</th>\n",
       "      <th>locality_name</th>\n",
       "      <th>airports_nearest</th>\n",
       "      <th>cityCenters_nearest</th>\n",
       "      <th>parks_around3000</th>\n",
       "      <th>parks_nearest</th>\n",
       "      <th>ponds_around3000</th>\n",
       "      <th>ponds_nearest</th>\n",
       "      <th>days_exposition</th>\n",
       "    </tr>\n",
       "  </thead>\n",
       "  <tbody>\n",
       "    <tr>\n",
       "      <th>0</th>\n",
       "      <td>20</td>\n",
       "      <td>13000000.0</td>\n",
       "      <td>108.0</td>\n",
       "      <td>2019-03-07T00:00:00</td>\n",
       "      <td>3</td>\n",
       "      <td>2.7</td>\n",
       "      <td>16.0</td>\n",
       "      <td>51.0</td>\n",
       "      <td>8</td>\n",
       "      <td>NaN</td>\n",
       "      <td>...</td>\n",
       "      <td>25.0</td>\n",
       "      <td>NaN</td>\n",
       "      <td>Санкт-Петербург</td>\n",
       "      <td>18863.0</td>\n",
       "      <td>16028.0</td>\n",
       "      <td>1.0</td>\n",
       "      <td>482.0</td>\n",
       "      <td>2.0</td>\n",
       "      <td>755.0</td>\n",
       "      <td>NaN</td>\n",
       "    </tr>\n",
       "    <tr>\n",
       "      <th>1</th>\n",
       "      <td>7</td>\n",
       "      <td>3350000.0</td>\n",
       "      <td>40.4</td>\n",
       "      <td>2018-12-04T00:00:00</td>\n",
       "      <td>1</td>\n",
       "      <td>NaN</td>\n",
       "      <td>11.0</td>\n",
       "      <td>18.6</td>\n",
       "      <td>1</td>\n",
       "      <td>NaN</td>\n",
       "      <td>...</td>\n",
       "      <td>11.0</td>\n",
       "      <td>2.0</td>\n",
       "      <td>посёлок Шушары</td>\n",
       "      <td>12817.0</td>\n",
       "      <td>18603.0</td>\n",
       "      <td>0.0</td>\n",
       "      <td>NaN</td>\n",
       "      <td>0.0</td>\n",
       "      <td>NaN</td>\n",
       "      <td>81.0</td>\n",
       "    </tr>\n",
       "    <tr>\n",
       "      <th>2</th>\n",
       "      <td>10</td>\n",
       "      <td>5196000.0</td>\n",
       "      <td>56.0</td>\n",
       "      <td>2015-08-20T00:00:00</td>\n",
       "      <td>2</td>\n",
       "      <td>NaN</td>\n",
       "      <td>5.0</td>\n",
       "      <td>34.3</td>\n",
       "      <td>4</td>\n",
       "      <td>NaN</td>\n",
       "      <td>...</td>\n",
       "      <td>8.3</td>\n",
       "      <td>0.0</td>\n",
       "      <td>Санкт-Петербург</td>\n",
       "      <td>21741.0</td>\n",
       "      <td>13933.0</td>\n",
       "      <td>1.0</td>\n",
       "      <td>90.0</td>\n",
       "      <td>2.0</td>\n",
       "      <td>574.0</td>\n",
       "      <td>558.0</td>\n",
       "    </tr>\n",
       "    <tr>\n",
       "      <th>3</th>\n",
       "      <td>0</td>\n",
       "      <td>64900000.0</td>\n",
       "      <td>159.0</td>\n",
       "      <td>2015-07-24T00:00:00</td>\n",
       "      <td>3</td>\n",
       "      <td>NaN</td>\n",
       "      <td>14.0</td>\n",
       "      <td>NaN</td>\n",
       "      <td>9</td>\n",
       "      <td>NaN</td>\n",
       "      <td>...</td>\n",
       "      <td>NaN</td>\n",
       "      <td>0.0</td>\n",
       "      <td>Санкт-Петербург</td>\n",
       "      <td>28098.0</td>\n",
       "      <td>6800.0</td>\n",
       "      <td>2.0</td>\n",
       "      <td>84.0</td>\n",
       "      <td>3.0</td>\n",
       "      <td>234.0</td>\n",
       "      <td>424.0</td>\n",
       "    </tr>\n",
       "    <tr>\n",
       "      <th>4</th>\n",
       "      <td>2</td>\n",
       "      <td>10000000.0</td>\n",
       "      <td>100.0</td>\n",
       "      <td>2018-06-19T00:00:00</td>\n",
       "      <td>2</td>\n",
       "      <td>3.03</td>\n",
       "      <td>14.0</td>\n",
       "      <td>32.0</td>\n",
       "      <td>13</td>\n",
       "      <td>NaN</td>\n",
       "      <td>...</td>\n",
       "      <td>41.0</td>\n",
       "      <td>NaN</td>\n",
       "      <td>Санкт-Петербург</td>\n",
       "      <td>31856.0</td>\n",
       "      <td>8098.0</td>\n",
       "      <td>2.0</td>\n",
       "      <td>112.0</td>\n",
       "      <td>1.0</td>\n",
       "      <td>48.0</td>\n",
       "      <td>121.0</td>\n",
       "    </tr>\n",
       "  </tbody>\n",
       "</table>\n",
       "<p>5 rows × 22 columns</p>\n",
       "</div>"
      ],
      "text/plain": [
       "   total_images  last_price total_area first_day_exposition  rooms  \\\n",
       "0            20  13000000.0      108.0  2019-03-07T00:00:00      3   \n",
       "1             7   3350000.0       40.4  2018-12-04T00:00:00      1   \n",
       "2            10   5196000.0       56.0  2015-08-20T00:00:00      2   \n",
       "3             0  64900000.0      159.0  2015-07-24T00:00:00      3   \n",
       "4             2  10000000.0      100.0  2018-06-19T00:00:00      2   \n",
       "\n",
       "  ceiling_height floors_total living_area  floor is_apartment  ...  \\\n",
       "0            2.7         16.0        51.0      8          NaN  ...   \n",
       "1            NaN         11.0        18.6      1          NaN  ...   \n",
       "2            NaN          5.0        34.3      4          NaN  ...   \n",
       "3            NaN         14.0         NaN      9          NaN  ...   \n",
       "4           3.03         14.0        32.0     13          NaN  ...   \n",
       "\n",
       "   kitchen_area  balcony    locality_name airports_nearest  \\\n",
       "0          25.0      NaN  Санкт-Петербург          18863.0   \n",
       "1          11.0      2.0   посёлок Шушары          12817.0   \n",
       "2           8.3      0.0  Санкт-Петербург          21741.0   \n",
       "3           NaN      0.0  Санкт-Петербург          28098.0   \n",
       "4          41.0      NaN  Санкт-Петербург          31856.0   \n",
       "\n",
       "  cityCenters_nearest parks_around3000 parks_nearest ponds_around3000  \\\n",
       "0             16028.0              1.0         482.0              2.0   \n",
       "1             18603.0              0.0           NaN              0.0   \n",
       "2             13933.0              1.0          90.0              2.0   \n",
       "3              6800.0              2.0          84.0              3.0   \n",
       "4              8098.0              2.0         112.0              1.0   \n",
       "\n",
       "  ponds_nearest days_exposition  \n",
       "0         755.0             NaN  \n",
       "1           NaN            81.0  \n",
       "2         574.0           558.0  \n",
       "3         234.0           424.0  \n",
       "4          48.0           121.0  \n",
       "\n",
       "[5 rows x 22 columns]"
      ]
     },
     "metadata": {},
     "output_type": "display_data"
    }
   ],
   "source": [
    "display(data.head())"
   ]
  },
  {
   "cell_type": "code",
   "execution_count": 99,
   "metadata": {},
   "outputs": [],
   "source": [
    "# NaN в 0 - data['balcony']\n",
    "data['balcony'] = data['balcony'].fillna(0) \n",
    "# \"посёлок\" в \"поселок\"\n",
    "data['locality_name'] = data['locality_name'].str.replace(\"посёлок\", \"поселок\") \n",
    "# почему так много НаН?\n",
    "data['is_apartment'].unique()\n",
    "# поменяем НаН на False \n",
    "data['is_apartment'] = data['is_apartment'].fillna(False)\n",
    "\n",
    "# Что на счет parks_nearest  и ponds_nearest\n",
    "# data['parks_nearest'].isna().sum()\n",
    "# Не понятно с чем связано все это, поэтому ничего не будем трогать"
   ]
  },
  {
   "cell_type": "code",
   "execution_count": 100,
   "metadata": {
    "scrolled": true
   },
   "outputs": [],
   "source": [
    "#print(data[(data['rooms'] == 0)& (data['studio']==True)]) # Если комнат = 0, студия?\n",
    "#flats_data = data.query('rooms == 0') #Сделаем разрез для удобства \n",
    "#flats_data['total_area'].unique() # 58.4 | 98.4 | 371 <- Это ошибки?\n",
    "#print(flats_data[flats_data['total_area']=='371.0']) #371м ~ 71.000.000 судя по цене правда, но я не уверен\n",
    "#print(flats_data[flats_data['total_area']=='98.4']) #98.4м ~ 16.300.000 скорее всего правда\n",
    "#print(flats_data['kitchen_area'].unique()) # Все значение НаН\n",
    "#print(flats_data['living_area'].unique()) # Имеет хотя бы какой-то место для жизни, следовательно есть 1 комната\n",
    "#data['rooms'] = data[data['rooms']<1] == 1\n",
    "data['rooms'] = data['rooms'].where(data['rooms']>1,1)"
   ]
  },
  {
   "cell_type": "markdown",
   "metadata": {},
   "source": [
    "<b>\n",
    "Нулевые значения могут сильно искозить картину данных, их трогать не будем\n",
    "    <b>"
   ]
  },
  {
   "cell_type": "code",
   "execution_count": 102,
   "metadata": {
    "scrolled": true
   },
   "outputs": [
    {
     "name": "stdout",
     "output_type": "stream",
     "text": [
      "<class 'pandas.core.frame.DataFrame'>\n",
      "RangeIndex: 23699 entries, 0 to 23698\n",
      "Data columns (total 22 columns):\n",
      " #   Column                Non-Null Count  Dtype \n",
      "---  ------                --------------  ----- \n",
      " 0   total_images          23699 non-null  int64 \n",
      " 1   last_price            23699 non-null  object\n",
      " 2   total_area            23699 non-null  object\n",
      " 3   first_day_exposition  23699 non-null  object\n",
      " 4   rooms                 23699 non-null  int64 \n",
      " 5   ceiling_height        14504 non-null  object\n",
      " 6   floors_total          23613 non-null  object\n",
      " 7   living_area           21796 non-null  object\n",
      " 8   floor                 23699 non-null  int64 \n",
      " 9   is_apartment          23699 non-null  bool  \n",
      " 10  studio                23699 non-null  bool  \n",
      " 11  open_plan             23699 non-null  bool  \n",
      " 12  kitchen_area          21421 non-null  object\n",
      " 13  balcony               23699 non-null  object\n",
      " 14  locality_name         23650 non-null  object\n",
      " 15  airports_nearest      18157 non-null  object\n",
      " 16  cityCenters_nearest   18180 non-null  object\n",
      " 17  parks_around3000      18181 non-null  object\n",
      " 18  parks_nearest         8079 non-null   object\n",
      " 19  ponds_around3000      18181 non-null  object\n",
      " 20  ponds_nearest         9110 non-null   object\n",
      " 21  days_exposition       20518 non-null  object\n",
      "dtypes: bool(3), int64(3), object(16)\n",
      "memory usage: 3.5+ MB\n"
     ]
    }
   ],
   "source": [
    "data.info()"
   ]
  },
  {
   "cell_type": "markdown",
   "metadata": {},
   "source": [
    "Преобразуем столбцы из object в необходимый формат (int,float,bool,datetime)"
   ]
  },
  {
   "cell_type": "code",
   "execution_count": 103,
   "metadata": {},
   "outputs": [],
   "source": [
    "# object to int\n",
    "for i in ['last_price','floors_total','balcony','airports_nearest','cityCenters_nearest','parks_around3000','parks_nearest','ponds_around3000','ponds_nearest','days_exposition']:\n",
    "    data[i] = pd.to_numeric(data[i], downcast='signed')\n",
    "# object to float\n",
    "for i in ['total_area','ceiling_height','living_area','kitchen_area']:\n",
    "    data[i] = pd.to_numeric(data[i], downcast='float')\n",
    "# object to bool\n",
    "data['is_apartment']=data['is_apartment'].astype('bool')\n",
    "# object to datetime\n",
    "data['first_day_exposition'] = pd.to_datetime(data['first_day_exposition'], format='%Y-%m-%d %H:%M')"
   ]
  },
  {
   "cell_type": "markdown",
   "metadata": {},
   "source": [
    "После преобразования можно заполнить пропуски в столбце ceiling_height"
   ]
  },
  {
   "cell_type": "code",
   "execution_count": 104,
   "metadata": {},
   "outputs": [
    {
     "name": "stdout",
     "output_type": "stream",
     "text": [
      "[ 2.7    nan  3.03  2.5   2.67  2.56  3.05  2.75  2.6   2.9   2.8   2.55\n",
      "  3.    2.65  3.2   2.61  3.25  3.45  2.77  2.85  2.64  2.57  4.15  3.5\n",
      "  3.3   2.71  4.    2.47  2.73  2.84  3.1   2.34  3.4   3.06  2.72  2.54\n",
      "  2.51  2.78  2.76  2.58  3.7   2.52  5.2   2.87  2.66  2.59  2.    2.45\n",
      "  3.6   2.92  3.11  3.13  3.8   3.15  3.55  3.16  3.62  3.12  2.53  2.74\n",
      "  2.96  2.46  5.3   5.    2.79  2.95  4.06  2.94  3.82  3.54  3.53  2.83\n",
      "  4.7   2.4   3.38  3.01  5.6   3.65  3.9   3.18  3.35  2.3   3.57  2.48\n",
      "  2.62  2.82  3.98  2.63  3.83  3.52  3.95  3.75  2.88  3.67  3.87  3.66\n",
      "  3.85  3.86  4.19  3.24  4.8   4.5   4.2   3.36  3.08  3.68  3.07  3.37\n",
      "  3.09  8.    3.26  3.34  2.81  3.44  2.97  3.14  4.37  2.68  3.22  3.27\n",
      "  4.1   2.93  3.46  3.47  3.33  3.63  3.32  1.2   8.3   2.98  2.86  3.17\n",
      "  4.4   3.28  3.04  4.45  5.5   3.84  3.23  3.02  3.21  3.43  3.78  4.3\n",
      "  3.39  2.69  3.31  4.65  3.56  2.2   3.51  3.93  3.42  2.99  3.49  1.4\n",
      "  4.14  2.91  3.88  1.75  4.25  3.29  2.25  3.76  3.69  6.    2.26  2.89\n",
      "  3.58  5.8   2.49  4.9   3.48  1.03  1.   10.    3.59]\n"
     ]
    }
   ],
   "source": [
    "import warnings\n",
    "warnings.filterwarnings(\"ignore\")\n",
    "data['ceiling_height'].loc[data['ceiling_height']>10] /= 10\n",
    "print(data['ceiling_height'].unique())\n",
    "# значения больше 10м скорее всего ошибочны, необходимо переставить знак 25.0 -> 2.50"
   ]
  },
  {
   "cell_type": "code",
   "execution_count": 105,
   "metadata": {},
   "outputs": [],
   "source": [
    "#В прошлом блоке отредактивровали выбросы, теперь можем заполнить пропуски медианным значением\n",
    "data['ceiling_height'] = data['ceiling_height'].fillna(data['ceiling_height'].median())"
   ]
  },
  {
   "cell_type": "markdown",
   "metadata": {},
   "source": [
    "<b>\n",
    "Выборка по пропущеным значениям мала, заполнение не сильно исказит данные.\n",
    "    <b>"
   ]
  },
  {
   "cell_type": "code",
   "execution_count": 106,
   "metadata": {},
   "outputs": [
    {
     "name": "stdout",
     "output_type": "stream",
     "text": [
      "10102\n",
      "9071\n"
     ]
    }
   ],
   "source": [
    "# Постараемся найти те пропуски в растоянии до парков при наличии парков и прудов в радиусе 3 км.\n",
    "print(len(data[(data['parks_nearest'].isna())&(data['parks_around3000'] == 0)]))\n",
    "print(len(data[(data['ponds_nearest'].isna())&(data['ponds_around3000'] == 0)]))\n",
    "#Эти пропуски по сути можно не заменять, дополнительной информации они не принесут, /\n",
    "#а лишь испортят зависимости растояния в сторону нуля"
   ]
  },
  {
   "cell_type": "code",
   "execution_count": 107,
   "metadata": {},
   "outputs": [
    {
     "name": "stdout",
     "output_type": "stream",
     "text": [
      "186       4\n",
      "237       1\n",
      "457      12\n",
      "671       8\n",
      "1757      9\n",
      "         ..\n",
      "22542     3\n",
      "22656    20\n",
      "22808     6\n",
      "23590    18\n",
      "23658     8\n",
      "Name: floor, Length: 86, dtype: int64\n"
     ]
    }
   ],
   "source": [
    "print(data['floor'][data['floors_total'].isnull()])\n",
    "#Заполнить пропуски по floor_total не представляеться возможным"
   ]
  },
  {
   "cell_type": "code",
   "execution_count": 108,
   "metadata": {},
   "outputs": [],
   "source": [
    "#Удалим строки с неизвестным locality_name\n",
    "data = data[data['locality_name'].notna()]\n",
    "#Удалим строки с неизвестным floors_total\n",
    "data = data[data['floors_total'].notna()]"
   ]
  },
  {
   "cell_type": "markdown",
   "metadata": {},
   "source": [
    "<span style=\"color:Red\">Вывод по данным</span> <br>\n",
    "Ниже приведены основные столбцы и какая работа проведена, есть ли необходимость в будующем как-то исправлять сбор данных. <br>\n",
    "<br>\n",
    "<span style=\"color:blue\">Все столбцы приведены к необходимому типу данных (bool,int,...)</span> <br>\n",
    "airports_nearest — расстояние до ближайшего аэропорта в метрах (м) <span style=\"color:blue\">/без изменений </span> <br>\n",
    "balcony — число балконов <span style=\"color:blue\">/удалены пропуски, замена пропущеных значений на 0</span> <br>\n",
    "ceiling_height — высота потолков (м) <span style=\"color:blue\">/отредактиврованы шумы, заполнены пропуски медианным значением</span> <br>\n",
    "cityCenters_nearest — расстояние до центра города (м) <span style=\"color:blue\">/без изменений </span> <br>\n",
    "days_exposition — сколько дней было размещено объявление (от публикации до снятия) <span style=\"color:blue\">/заполнение пропусков в данном случае не нужно, обьявления не сняты</span> <br>\n",
    "first_day_exposition — дата публикации <span style=\"color:blue\">/без изменений </span> <br>\n",
    "floor — этаж <span style=\"color:blue\">/без изменений </span> <br>\n",
    "floors_total — всего этажей в доме <span style=\"color:blue\">/Заполнить пропуски по floor_total не представляеться возможным, так что удалим строки с этими значениями (86 - малая выборка) </span> <br>\n",
    "is_apartment — апартаменты (булев тип) <span style=\"color:blue\">/поменяли пропуски на False </span> <br>\n",
    "kitchen_area — площадь кухни в квадратных метрах (м²) <span style=\"color:blue\">/пропуски изменили на 0 </span> <br>\n",
    "last_price — цена на момент снятия с публикации <span style=\"color:blue\">/без изменений </span>  <br>\n",
    "living_area — жилая площадь в квадратных метрах (м²) <span style=\"color:blue\">/пропуски изменили на 0 </span> <br>\n",
    "locality_name — название населённого пункта <span style=\"color:blue\">/путаницы с \"поселок\" и \"посёлок\" больше нет, удалили строки с пропусками </span> <br>\n",
    "open_plan — свободная планировка (булев тип) <span style=\"color:blue\">/без изменений </span> <br>\n",
    "parks_around3000 — число парков в радиусе 3 км <span style=\"color:blue\">/без изменений </span> <br>\n",
    "parks_nearest — расстояние до ближайшего парка (м) <span style=\"color:blue\">/без изменений </span> <br>\n",
    "ponds_around3000 — число водоёмов в радиусе 3 км <span style=\"color:blue\">/без изменений </span> <br>\n",
    "ponds_nearest — расстояние до ближайшего водоёма (м) <span style=\"color:blue\">/без изменений </span> <br>\n",
    "rooms — число комнат  <span style=\"color:blue\">/сначала убрали нулевые комнаты, потом заполнили пропуски </span>  <br>\n",
    "studio — квартира-студия (булев тип) <span style=\"color:blue\">/без изменений </span> <br>\n",
    "total_area — общая площадь квартиры в квадратных метрах (м²) <span style=\"color:blue\">/без изменений </span>  <br>\n",
    "total_images — число фотографий квартиры в объявлении <span style=\"color:blue\">/без изменений </span> <br>\n",
    "\n",
    "             "
   ]
  },
  {
   "cell_type": "code",
   "execution_count": 109,
   "metadata": {},
   "outputs": [
    {
     "data": {
      "text/plain": [
       "total_images                0\n",
       "last_price                  0\n",
       "total_area                  0\n",
       "first_day_exposition        0\n",
       "rooms                       0\n",
       "ceiling_height              0\n",
       "floors_total                0\n",
       "living_area              1865\n",
       "floor                       0\n",
       "is_apartment                0\n",
       "studio                      0\n",
       "open_plan                   0\n",
       "kitchen_area             2222\n",
       "balcony                     0\n",
       "locality_name               0\n",
       "airports_nearest         5524\n",
       "cityCenters_nearest      5501\n",
       "parks_around3000         5500\n",
       "parks_nearest           15535\n",
       "ponds_around3000         5500\n",
       "ponds_nearest           14529\n",
       "days_exposition          3171\n",
       "dtype: int64"
      ]
     },
     "execution_count": 109,
     "metadata": {},
     "output_type": "execute_result"
    }
   ],
   "source": [
    "data.isnull().sum()"
   ]
  },
  {
   "cell_type": "markdown",
   "metadata": {},
   "source": [
    "### Посчитайте и добавьте в таблицу новые столбцы"
   ]
  },
  {
   "cell_type": "code",
   "execution_count": 110,
   "metadata": {},
   "outputs": [],
   "source": [
    "#Цена одного квадратного метра\n",
    "data[\"price_per_m\"]=data['last_price']/data['total_area']\n",
    "#День публикации обьявления\n",
    "data['weekday'] = pd.DatetimeIndex(data['first_day_exposition']).weekday\n",
    "#Месяц публикации обьявления\n",
    "data['month'] = pd.DatetimeIndex(data['first_day_exposition']).month\n",
    "#arrivals['month'] = pd.DatetimeIndex(arrivals['date_datetime']).month \n",
    "#Год публикации обьявления\n",
    "data['year'] = pd.DatetimeIndex(data['first_day_exposition']).year\n",
    "#Тип этажа квартиры\n",
    "def floor_type(fl,last_floor):\n",
    "    if fl == 1:\n",
    "        return \"первый\"\n",
    "    elif fl == last_floor:\n",
    "        return \"последний\"\n",
    "    else:\n",
    "        return \"другой\"\n",
    "\n",
    "data['type_floor'] = data[['floor','floors_total']].apply(lambda x: floor_type(*x),axis=1)\n",
    "#data['type_floor'] = data.apply(lambda x:floor_type(x['floor'],x['floors total'],axis=1)) - не понимаю почему этот код не сработал\n",
    "#Расстояние в км до центра города\n",
    "data['cityCenters_nearest_km'] = data['cityCenters_nearest']/1000"
   ]
  },
  {
   "cell_type": "markdown",
   "metadata": {},
   "source": [
    "### Проведите исследовательский анализ данных"
   ]
  },
  {
   "cell_type": "code",
   "execution_count": 111,
   "metadata": {},
   "outputs": [
    {
     "name": "stdout",
     "output_type": "stream",
     "text": [
      "count    23565.000000\n",
      "mean        60.322826\n",
      "std         35.657059\n",
      "min         12.000000\n",
      "25%         40.000000\n",
      "50%         52.000000\n",
      "75%         69.699997\n",
      "max        900.000000\n",
      "Name: total_area, dtype: float64\n"
     ]
    },
    {
     "data": {
      "text/plain": [
       "<AxesSubplot:>"
      ]
     },
     "execution_count": 111,
     "metadata": {},
     "output_type": "execute_result"
    },
    {
     "data": {
      "image/png": "[encoded data removed]",
      "text/plain": [
       "<Figure size 432x288 with 1 Axes>"
      ]
     },
     "metadata": {
      "needs_background": "light"
     },
     "output_type": "display_data"
    }
   ],
   "source": [
    "#Анализ общей площади помещений\n",
    "print(data['total_area'].describe())\n",
    "data['total_area'].hist(bins=40,range=(0,200))\n",
    "#В большой площади нет ничего такого, цена за данную площадь соотведствующая"
   ]
  },
  {
   "cell_type": "code",
   "execution_count": 112,
   "metadata": {},
   "outputs": [
    {
     "name": "stdout",
     "output_type": "stream",
     "text": [
      "count    21700.000000\n",
      "mean        34.454823\n",
      "std         22.045359\n",
      "min          2.000000\n",
      "25%         18.600000\n",
      "50%         30.000000\n",
      "75%         42.299999\n",
      "max        409.700012\n",
      "Name: living_area, dtype: float64\n"
     ]
    },
    {
     "data": {
      "text/plain": [
       "<AxesSubplot:>"
      ]
     },
     "execution_count": 112,
     "metadata": {},
     "output_type": "execute_result"
    },
    {
     "data": {
      "image/png": "[encoded data removed]",
      "text/plain": [
       "<Figure size 432x288 with 1 Axes>"
      ]
     },
     "metadata": {
      "needs_background": "light"
     },
     "output_type": "display_data"
    }
   ],
   "source": [
    "#Анализ жилой площади помещений\n",
    "print(data['living_area'].describe())\n",
    "data['living_area'].hist(bins=40,range=(0,100))\n",
    "#print(data['living_area'].sort_values(ascending=False).head(10))\n",
    "#В большой жилой площади нет ничего криминального, может это отель"
   ]
  },
  {
   "cell_type": "code",
   "execution_count": 136,
   "metadata": {},
   "outputs": [
    {
     "name": "stdout",
     "output_type": "stream",
     "text": [
      "count    21343.000000\n",
      "mean        10.560994\n",
      "std          5.900630\n",
      "min          1.300000\n",
      "25%          7.000000\n",
      "50%          9.100000\n",
      "75%         12.000000\n",
      "max        112.000000\n",
      "Name: kitchen_area, dtype: float64\n"
     ]
    },
    {
     "data": {
      "text/plain": [
       "<AxesSubplot:>"
      ]
     },
     "execution_count": 136,
     "metadata": {},
     "output_type": "execute_result"
    },
    {
     "data": {
      "image/png": "[encoded data removed]",
      "text/plain": [
       "<Figure size 432x288 with 1 Axes>"
      ]
     },
     "metadata": {
      "needs_background": "light"
     },
     "output_type": "display_data"
    }
   ],
   "source": [
    "#Анализ площадей кухонь\n",
    "print(data['kitchen_area'].describe())\n",
    "data['kitchen_area'].hist(bins=40,range=(0,40))\n",
    "#Кухня 100+ метров, это конечно много, но почему бы и нет?"
   ]
  },
  {
   "cell_type": "code",
   "execution_count": 139,
   "metadata": {},
   "outputs": [
    {
     "name": "stdout",
     "output_type": "stream",
     "text": [
      "count    2.356500e+04\n",
      "mean     6.540058e+06\n",
      "std      1.091093e+07\n",
      "min      1.219000e+04\n",
      "25%      3.400000e+06\n",
      "50%      4.646000e+06\n",
      "75%      6.790000e+06\n",
      "max      7.630000e+08\n",
      "Name: last_price, dtype: float64\n"
     ]
    },
    {
     "data": {
      "text/plain": [
       "<AxesSubplot:xlabel='last_price'>"
      ]
     },
     "execution_count": 139,
     "metadata": {},
     "output_type": "execute_result"
    },
    {
     "data": {
      "image/png": "[encoded data removed]",
      "text/plain": [
       "<Figure size 432x288 with 1 Axes>"
      ]
     },
     "metadata": {
      "needs_background": "light"
     },
     "output_type": "display_data"
    }
   ],
   "source": [
    "#Анализ цены мало чего покажет, нужно смотреть в связке с чем-то, например с метражом.\n",
    "print(data['last_price'].describe())\n",
    "data.plot(x='last_price',y='total_area',style =\"o\",xlim=(0,150000000))\n",
    "#Нужно смотреть по каждому отдельному населенному пункту"
   ]
  },
  {
   "cell_type": "code",
   "execution_count": 140,
   "metadata": {},
   "outputs": [
    {
     "name": "stdout",
     "output_type": "stream",
     "text": [
      "count    23565.000000\n",
      "mean         2.078888\n",
      "std          1.066503\n",
      "min          1.000000\n",
      "25%          1.000000\n",
      "50%          2.000000\n",
      "75%          3.000000\n",
      "max         19.000000\n",
      "Name: rooms, dtype: float64\n"
     ]
    },
    {
     "data": {
      "text/plain": [
       "array([[<AxesSubplot:title={'center':'rooms'}>]], dtype=object)"
      ]
     },
     "execution_count": 140,
     "metadata": {},
     "output_type": "execute_result"
    },
    {
     "data": {
      "image/png": "[encoded data removed]",
      "text/plain": [
       "<Figure size 432x288 with 1 Axes>"
      ]
     },
     "metadata": {
      "needs_background": "light"
     },
     "output_type": "display_data"
    }
   ],
   "source": [
    "#Количество комнат\n",
    "print(data['rooms'].describe())\n",
    "data.hist('rooms', bins = 10,range=(0,10))\n",
    "#Много не всегда хорошо"
   ]
  },
  {
   "cell_type": "code",
   "execution_count": 142,
   "metadata": {},
   "outputs": [
    {
     "name": "stdout",
     "output_type": "stream",
     "text": [
      "count    23565.000000\n",
      "mean         2.697819\n",
      "std          0.238002\n",
      "min          1.000000\n",
      "25%          2.600000\n",
      "50%          2.650000\n",
      "75%          2.700000\n",
      "max         10.000000\n",
      "Name: ceiling_height, dtype: float64\n"
     ]
    },
    {
     "data": {
      "text/plain": [
       "array([[<AxesSubplot:title={'center':'ceiling_height'}>]], dtype=object)"
      ]
     },
     "execution_count": 142,
     "metadata": {},
     "output_type": "execute_result"
    },
    {
     "data": {
      "image/png": "[encoded data removed]",
      "text/plain": [
       "<Figure size 432x288 with 1 Axes>"
      ]
     },
     "metadata": {
      "needs_background": "light"
     },
     "output_type": "display_data"
    }
   ],
   "source": [
    "#Высота потолков\n",
    "print(data['ceiling_height'].describe())\n",
    "data.hist('ceiling_height', bins = 10,range=(2,6))\n",
    "#Все значения выше 10 метров были убраны, а все пропуски были заполнены медианным значением, вот и молучаются следующие\n",
    "#значения 50% "
   ]
  },
  {
   "cell_type": "code",
   "execution_count": 145,
   "metadata": {},
   "outputs": [
    {
     "name": "stdout",
     "output_type": "stream",
     "text": [
      "count    23565.000000\n",
      "mean         5.878124\n",
      "std          4.871485\n",
      "min          1.000000\n",
      "25%          2.000000\n",
      "50%          4.000000\n",
      "75%          8.000000\n",
      "max         33.000000\n",
      "Name: floor, dtype: float64\n"
     ]
    },
    {
     "data": {
      "text/plain": [
       "array([[<AxesSubplot:title={'center':'floor'}>]], dtype=object)"
      ]
     },
     "execution_count": 145,
     "metadata": {},
     "output_type": "execute_result"
    },
    {
     "data": {
      "image/png": "[encoded data removed]",
      "text/plain": [
       "<Figure size 432x288 with 1 Axes>"
      ]
     },
     "metadata": {
      "needs_background": "light"
     },
     "output_type": "display_data"
    }
   ],
   "source": [
    "#Этаж квартиры\n",
    "print(data['floor'].describe())\n",
    "data.hist('floor', bins = 10,range=(1,10))\n",
    "#Наибольшее количество квартир до 5 этажа"
   ]
  },
  {
   "cell_type": "code",
   "execution_count": 118,
   "metadata": {},
   "outputs": [
    {
     "name": "stdout",
     "output_type": "stream",
     "text": [
      "другой       17326\n",
      "последний     3330\n",
      "первый        2909\n",
      "Name: type_floor, dtype: int64\n"
     ]
    }
   ],
   "source": [
    "#Тип этажа квартиры\n",
    "print(data[\"type_floor\"].value_counts())\n",
    "#На первом и на последнем продают меньше чем между"
   ]
  },
  {
   "cell_type": "code",
   "execution_count": 147,
   "metadata": {},
   "outputs": [
    {
     "name": "stdout",
     "output_type": "stream",
     "text": [
      "count    23565.000000\n",
      "mean        10.675875\n",
      "std          6.594823\n",
      "min          1.000000\n",
      "25%          5.000000\n",
      "50%          9.000000\n",
      "75%         16.000000\n",
      "max         60.000000\n",
      "Name: floors_total, dtype: float64\n"
     ]
    },
    {
     "data": {
      "text/plain": [
       "array([[<AxesSubplot:title={'center':'floors_total'}>]], dtype=object)"
      ]
     },
     "execution_count": 147,
     "metadata": {},
     "output_type": "execute_result"
    },
    {
     "data": {
      "image/png": "[encoded data removed]",
      "text/plain": [
       "<Figure size 432x288 with 1 Axes>"
      ]
     },
     "metadata": {
      "needs_background": "light"
     },
     "output_type": "display_data"
    },
    {
     "data": {
      "image/png": "[encoded data removed]",
      "text/plain": [
       "<Figure size 432x288 with 1 Axes>"
      ]
     },
     "metadata": {
      "needs_background": "light"
     },
     "output_type": "display_data"
    }
   ],
   "source": [
    "#Общее количество этажей в доме\n",
    "print(data['floors_total'].describe())\n",
    "data.hist('floors_total', bins = 10,range=(1,20))\n",
    "data.hist('floors_total', bins = 10,range=(1,10))\n",
    "#домов малой этажности преобладающее количество(<10)"
   ]
  },
  {
   "cell_type": "code",
   "execution_count": 148,
   "metadata": {},
   "outputs": [
    {
     "name": "stdout",
     "output_type": "stream",
     "text": [
      "count    18064.000000\n",
      "mean     14192.656056\n",
      "std       8613.348153\n",
      "min        181.000000\n",
      "25%       9238.000000\n",
      "50%      13096.500000\n",
      "75%      16285.000000\n",
      "max      65968.000000\n",
      "Name: cityCenters_nearest, dtype: float64\n"
     ]
    },
    {
     "data": {
      "text/plain": [
       "array([[<AxesSubplot:title={'center':'cityCenters_nearest'}>]],\n",
       "      dtype=object)"
      ]
     },
     "execution_count": 148,
     "metadata": {},
     "output_type": "execute_result"
    },
    {
     "data": {
      "image/png": "[encoded data removed]",
      "text/plain": [
       "<Figure size 432x288 with 1 Axes>"
      ]
     },
     "metadata": {
      "needs_background": "light"
     },
     "output_type": "display_data"
    }
   ],
   "source": [
    "#Расстояние до центра города в метрах\n",
    "print(data['cityCenters_nearest'].describe())\n",
    "data.hist('cityCenters_nearest', bins = 10,range=(0,20000))\n",
    "#В среднем 14км, максимум 70км, ну уже точно не Москва, что ставит под сомнение данное число\n",
    "#print(data['locality_name'][data['cityCenters_nearest']==65968.000000]) Поселок Молодёжное в Московской области,\n",
    "#но у области нет центра, спорно"
   ]
  },
  {
   "cell_type": "code",
   "execution_count": 149,
   "metadata": {},
   "outputs": [
    {
     "name": "stdout",
     "output_type": "stream",
     "text": [
      "count    18041.000000\n",
      "mean     28797.082701\n",
      "std      12632.499735\n",
      "min          0.000000\n",
      "25%      18565.000000\n",
      "50%      26757.000000\n",
      "75%      37273.000000\n",
      "max      84869.000000\n",
      "Name: airports_nearest, dtype: float64\n"
     ]
    },
    {
     "data": {
      "text/plain": [
       "array([[<AxesSubplot:title={'center':'airports_nearest'}>]], dtype=object)"
      ]
     },
     "execution_count": 149,
     "metadata": {},
     "output_type": "execute_result"
    },
    {
     "data": {
      "image/png": "[encoded data removed]",
      "text/plain": [
       "<Figure size 432x288 with 1 Axes>"
      ]
     },
     "metadata": {
      "needs_background": "light"
     },
     "output_type": "display_data"
    }
   ],
   "source": [
    "#Расстояние до айропорта\n",
    "print(data['airports_nearest'].describe())\n",
    "data.hist('airports_nearest', bins = 10,range=(0,40000))\n",
    "# В среднем люди предпочитают жить подальше от айропорта"
   ]
  },
  {
   "cell_type": "code",
   "execution_count": 150,
   "metadata": {},
   "outputs": [
    {
     "name": "stdout",
     "output_type": "stream",
     "text": [
      "count    8030.000000\n",
      "mean      490.580448\n",
      "std       341.572956\n",
      "min         1.000000\n",
      "25%       288.000000\n",
      "50%       455.000000\n",
      "75%       612.000000\n",
      "max      3190.000000\n",
      "Name: parks_nearest, dtype: float64\n"
     ]
    },
    {
     "data": {
      "text/plain": [
       "array([[<AxesSubplot:title={'center':'parks_nearest'}>]], dtype=object)"
      ]
     },
     "execution_count": 150,
     "metadata": {},
     "output_type": "execute_result"
    },
    {
     "data": {
      "image/png": "[encoded data removed]",
      "text/plain": [
       "<Figure size 432x288 with 1 Axes>"
      ]
     },
     "metadata": {
      "needs_background": "light"
     },
     "output_type": "display_data"
    }
   ],
   "source": [
    "#Расстояние до парка\n",
    "print(data['parks_nearest'].describe())\n",
    "data.hist('parks_nearest', bins = 10,range=(0,1000))\n",
    "#В среднем почти 500 метров, много все таки зеленых зон в городах"
   ]
  },
  {
   "cell_type": "code",
   "execution_count": 123,
   "metadata": {},
   "outputs": [
    {
     "name": "stdout",
     "output_type": "stream",
     "text": [
      "AxesSubplot(0.125,0.125;0.775x0.755)\n"
     ]
    },
    {
     "data": {
      "image/png": "[encoded data removed]",
      "text/plain": [
       "<Figure size 432x288 with 1 Axes>"
      ]
     },
     "metadata": {
      "needs_background": "light"
     },
     "output_type": "display_data"
    }
   ],
   "source": [
    "# День и месяц публикации обьявления\n",
    "print(data['weekday'].hist(bins=15))\n",
    "#Публикуют чаще в рабочие дни, может эта работа риэлторов?"
   ]
  },
  {
   "cell_type": "code",
   "execution_count": 124,
   "metadata": {},
   "outputs": [
    {
     "name": "stdout",
     "output_type": "stream",
     "text": [
      "AxesSubplot(0.125,0.125;0.775x0.755)\n"
     ]
    },
    {
     "data": {
      "image/png": "[encoded data removed]",
      "text/plain": [
       "<Figure size 432x288 with 1 Axes>"
      ]
     },
     "metadata": {
      "needs_background": "light"
     },
     "output_type": "display_data"
    }
   ],
   "source": [
    "print(data['month'].hist())\n",
    "#На начало и конец года наибольшее распределение, \"год с чистого листа\"?"
   ]
  },
  {
   "cell_type": "markdown",
   "metadata": {},
   "source": [
    "Подвывод: <br>\n",
    "Общая площадь выставленных обьектов стремиться к 40-50 м (больше всего), далее же идет на спад. <br>\n",
    "По жилой площади наблюдаються 2 пика, 15-20,30-35 м, далее количество обьектов идет на спад.<br>\n",
    "По площадям кухонь наблюдаеться один пик слившийся из 3х, диапазон площадей в основном от 5 до 15 м, далее идет на спад. <br>\n",
    "Цены на жилье сильно разнятся, но основная масса обьявлений сконцентрированна до 10.000.000. <br>\n",
    "По количеству комнат - больше всего обьявлений однакомнатных квартир, далее идет на спад. <br>\n",
    "По высоте поталков больше всего обьявлений с высотой 2.8 м, далее на спад. <br>\n",
    "Обьявления с квартирами на втором этаже имеют наибольшую выборку, этот вывод подчеркивает анализ типов этажей, обьявлений с типом этажей \"первый\" и \"последний\" меньше чем с типом \"другой\" т.е между первым и последним этажом.  <br>\n",
    "Больше всего обьявлений о продаже квартир в 5ти и 9ти этажных домах <br>\n",
    "В среднем квартиры продают на расстоянии от центра в 12-15 км, но есть и большая часть в 5 км. <br>\n",
    "Удаленность до айропорта в среднем составляет 25-35 км. <br>\n",
    "До парка удаленность в среднем 400-600 м. <br>\n",
    "В основном обьявления публиковались в рабочие дни (с понедельника по пятницу). <br>\n",
    "Основной пик по месяцам приходиться на январь,февраль,ноябрь и декабрь (предновогоднее и посленовогднее время)."
   ]
  },
  {
   "cell_type": "code",
   "execution_count": 125,
   "metadata": {},
   "outputs": [
    {
     "name": "stdout",
     "output_type": "stream",
     "text": [
      "count    20394.000000\n",
      "mean       180.741395\n",
      "std        219.732782\n",
      "min          1.000000\n",
      "25%         45.000000\n",
      "50%         95.000000\n",
      "75%        231.000000\n",
      "max       1580.000000\n",
      "Name: days_exposition, dtype: float64\n"
     ]
    },
    {
     "data": {
      "text/plain": [
       "array([[<AxesSubplot:title={'center':'days_exposition'}>]], dtype=object)"
      ]
     },
     "execution_count": 125,
     "metadata": {},
     "output_type": "execute_result"
    },
    {
     "data": {
      "image/png": "[encoded data removed]",
      "text/plain": [
       "<Figure size 432x288 with 1 Axes>"
      ]
     },
     "metadata": {
      "needs_background": "light"
     },
     "output_type": "display_data"
    }
   ],
   "source": [
    "print(data['days_exposition'].describe())\n",
    "data.hist('days_exposition', bins = 10)\n",
    "#Среднее 180 дней\n",
    "#Медиана 95 дней"
   ]
  },
  {
   "cell_type": "markdown",
   "metadata": {},
   "source": [
    "Из получившихся данных делаем вывод, что быстрыми сделками можно назвать первые 25% т.е до 45 дней. <br>\n",
    "Долгими сделками назовем последние 25% выборки, т.е более 230 дней это долгие сделки.<br>\n",
    "В среднем сделка проходит за пол года - 180 дней.\n",
    "Медиана составляет 95 дней."
   ]
  },
  {
   "cell_type": "code",
   "execution_count": 126,
   "metadata": {},
   "outputs": [
    {
     "data": {
      "text/plain": [
       "<AxesSubplot:xlabel='last_price'>"
      ]
     },
     "execution_count": 126,
     "metadata": {},
     "output_type": "execute_result"
    },
    {
     "data": {
      "image/png": "[encoded data removed]",
      "text/plain": [
       "<Figure size 432x288 with 1 Axes>"
      ]
     },
     "metadata": {
      "needs_background": "light"
     },
     "output_type": "display_data"
    }
   ],
   "source": [
    "data.plot(x='last_price',y='total_area',style='o',xlim=(0,100000000),ylim=(0,400))\n",
    "#В целом - чем больше общая площадь тем больше и цена"
   ]
  },
  {
   "cell_type": "code",
   "execution_count": 127,
   "metadata": {},
   "outputs": [
    {
     "data": {
      "text/plain": [
       "<AxesSubplot:xlabel='last_price'>"
      ]
     },
     "execution_count": 127,
     "metadata": {},
     "output_type": "execute_result"
    },
    {
     "data": {
      "image/png": "[encoded data removed]",
      "text/plain": [
       "<Figure size 432x288 with 1 Axes>"
      ]
     },
     "metadata": {
      "needs_background": "light"
     },
     "output_type": "display_data"
    }
   ],
   "source": [
    "data.plot(x='last_price',y='kitchen_area',style='o',xlim=(0,100000000),ylim=(0,80))\n",
    "#Явной с ростом площади возрастает и цена, но после 45-55 метров цена хаотична"
   ]
  },
  {
   "cell_type": "code",
   "execution_count": 128,
   "metadata": {},
   "outputs": [
    {
     "data": {
      "text/plain": [
       "<AxesSubplot:xlabel='last_price'>"
      ]
     },
     "execution_count": 128,
     "metadata": {},
     "output_type": "execute_result"
    },
    {
     "data": {
      "image/png": "[encoded data removed]",
      "text/plain": [
       "<Figure size 432x288 with 1 Axes>"
      ]
     },
     "metadata": {
      "needs_background": "light"
     },
     "output_type": "display_data"
    }
   ],
   "source": [
    "data.plot(x='last_price',y='rooms',style='o',xlim=(0,100000000),ylim=(0,15))\n",
    "#В целом видно, что цена повышаеться к 3, а потом к 5 комнатам, а потом идет на спад."
   ]
  },
  {
   "cell_type": "code",
   "execution_count": 177,
   "metadata": {},
   "outputs": [
    {
     "name": "stdout",
     "output_type": "stream",
     "text": [
      "Медианные значения цены от типа этажа обьекта\n",
      "Первый: 4802603.99071846\n",
      "Другой: 6674348.8980145445\n",
      "Последний: 7359137.802102102\n"
     ]
    }
   ],
   "source": [
    "print(\"Медианные значения цены от типа этажа обьекта\")\n",
    "print('Первый:',data['last_price'][data['type_floor']==\"первый\"].mean())\n",
    "print('Другой:',data['last_price'][data['type_floor']==\"другой\"].mean())\n",
    "print(\"Последний:\",data['last_price'][data['type_floor']==\"последний\"].mean())\n",
    "#print(data['last_price'][data['type_floor']==\"последний\"].hist(bins=1)) #Ораньжевый\n",
    "#print(data['last_price'][data['type_floor']==\"первый\"].hist(bins=1)) #Зеленый\n",
    "#На первом этаже не очень хорошая цена, на последнем же цена очень большая, может это связано с элитным жильем(пентхаусы и частные дома)\n",
    "#Пытался построить .plot но не смог подобрать оптимальный запрос"
   ]
  },
  {
   "cell_type": "markdown",
   "metadata": {},
   "source": [
    "<b>\n",
    "Самые дешевые квартиры на первом этаже, самые дорогие на последнем, скорее всего это связано с элитным жильем (пентхаусы и частные дома)"
   ]
  },
  {
   "cell_type": "code",
   "execution_count": 130,
   "metadata": {},
   "outputs": [
    {
     "data": {
      "text/plain": [
       "<AxesSubplot:xlabel='last_price'>"
      ]
     },
     "execution_count": 130,
     "metadata": {},
     "output_type": "execute_result"
    },
    {
     "data": {
      "image/png": "[encoded data removed]",
      "text/plain": [
       "<Figure size 432x288 with 1 Axes>"
      ]
     },
     "metadata": {
      "needs_background": "light"
     },
     "output_type": "display_data"
    }
   ],
   "source": [
    "data.plot(x='last_price',y='weekday',style='o',grid=True,xlim=(0,100000000))\n",
    "#Четверг, самый продажный день, второй на очереди понедельник "
   ]
  },
  {
   "cell_type": "code",
   "execution_count": 131,
   "metadata": {},
   "outputs": [
    {
     "data": {
      "text/plain": [
       "<AxesSubplot:xlabel='last_price'>"
      ]
     },
     "execution_count": 131,
     "metadata": {},
     "output_type": "execute_result"
    },
    {
     "data": {
      "image/png": "[encoded data removed]",
      "text/plain": [
       "<Figure size 432x288 with 1 Axes>"
      ]
     },
     "metadata": {
      "needs_background": "light"
     },
     "output_type": "display_data"
    }
   ],
   "source": [
    "data.plot(x='last_price',y='month',style='o',grid=True,xlim=(0,200000000))\n",
    "#Явно равномерное равномерное распределение, но видны возвышения ближе к новому году и после него, так же на середину года."
   ]
  },
  {
   "cell_type": "code",
   "execution_count": 132,
   "metadata": {},
   "outputs": [
    {
     "data": {
      "text/plain": [
       "<AxesSubplot:xlabel='last_price'>"
      ]
     },
     "execution_count": 132,
     "metadata": {},
     "output_type": "execute_result"
    },
    {
     "data": {
      "image/png": "[encoded data removed]",
      "text/plain": [
       "<Figure size 432x288 with 1 Axes>"
      ]
     },
     "metadata": {
      "needs_background": "light"
     },
     "output_type": "display_data"
    }
   ],
   "source": [
    "data.plot(x='last_price',y='year',style='o',xlim=(0,100000000))\n",
    "#А вот по годам кореляция есть, самые дешевые варианты в 2014, в последующем виден рост цен до 2017 года, потом идет на понижение"
   ]
  },
  {
   "cell_type": "markdown",
   "metadata": {},
   "source": [
    "Подвывод <br>\n",
    "Общая площадь обьекта конечно влияет на цену почти линейно. <br>\n",
    "Площадь кухни тоже влияет на цену к 45-55 цена возрастает, после она ведет себя хаотично. <br>\n",
    "Количество комнат влияет на цену - к 3м комнатам цена возрастает, далее пик цены только на 5 комнатах.<br>\n",
    "Квартиры на первом этаже самые низкие по цене. Самые дорогие квартиры находяться на последних этажах, возможно это связано с жильем премиум класса(пентхаусы или частные одноэтажные дома).<br>\n",
    "Самый продажный день недели это четверг, следом за ним идет понедельник.<br>\n",
    "Цены в течении года разняца, но самые большие сделки проходят либо перед новым годом, либо после. Следом идет июль.<br>\n",
    "Наиболее характерно на цену обьекта влияет год продажи обьекта в 2014 было дешевле всего, в 2017 был пик цены, а к 2019 спад.<br> "
   ]
  },
  {
   "cell_type": "code",
   "execution_count": 288,
   "metadata": {},
   "outputs": [
    {
     "data": {
      "text/plain": [
       "<AxesSubplot:ylabel='locality_name'>"
      ]
     },
     "execution_count": 288,
     "metadata": {},
     "output_type": "execute_result"
    },
    {
     "data": {
      "image/png": "[encoded data removed]",
      "text/plain": [
       "<Figure size 432x288 with 1 Axes>"
      ]
     },
     "metadata": {
      "needs_background": "light"
     },
     "output_type": "display_data"
    }
   ],
   "source": [
    "#Населеные пункты с самой низкой ценой за квадратный метр.\n",
    "#print(data[['locality_name','price_per_m']].groupby(by='locality_name').mean().sort_values('price_per_m').head(10))\n",
    "top_10_low_count = pd.pivot_table(data,index=['locality_name'],values=['price_per_m'],aggfunc=['count','mean'])\n",
    "top_10_low_count.columns=['count','price_per_m']\n",
    "top_10_low_count = top_10_low_count.sort_values(by='count').head(10)\n",
    "top_10_low_count['price_per_m'].plot(kind='barh')"
   ]
  },
  {
   "cell_type": "code",
   "execution_count": 286,
   "metadata": {},
   "outputs": [
    {
     "data": {
      "text/plain": [
       "<AxesSubplot:ylabel='locality_name'>"
      ]
     },
     "execution_count": 286,
     "metadata": {},
     "output_type": "execute_result"
    },
    {
     "data": {
      "image/png": "[encoded data removed]",
      "text/plain": [
       "<Figure size 432x288 with 1 Axes>"
      ]
     },
     "metadata": {
      "needs_background": "light"
     },
     "output_type": "display_data"
    }
   ],
   "source": [
    "#Населеные пункты с самой высокой ценой за квадратный метр.\n",
    "#print(data[['locality_name','price_per_m']].groupby(by='locality_name').mean().sort_values('price_per_m').tail(10))\n",
    "top_10_high_count = pd.pivot_table(data,index=['locality_name'],values=['price_per_m'],aggfunc=['count','mean'])\n",
    "top_10_high_count.columns=['count','price_per_m']\n",
    "top_10_high_count = top_10_high_count.sort_values(by='count').tail(10)\n",
    "top_10_high_count['price_per_m'].plot(kind='barh')"
   ]
  },
  {
   "cell_type": "code",
   "execution_count": 135,
   "metadata": {},
   "outputs": [
    {
     "name": "stdout",
     "output_type": "stream",
     "text": [
      "AxesSubplot(0.125,0.125;0.775x0.755)\n"
     ]
    },
    {
     "data": {
      "image/png": "[encoded data removed]",
      "text/plain": [
       "<Figure size 432x288 with 1 Axes>"
      ]
     },
     "metadata": {
      "needs_background": "light"
     },
     "output_type": "display_data"
    }
   ],
   "source": [
    "spb_price = data[data['locality_name']=='Санкт-Петербург']\n",
    "spb_price = spb_price[spb_price['cityCenters_nearest_km'].notna()]\n",
    "spb_price['cityCenters_nearest_km']=spb_price['cityCenters_nearest_km'].astype(int)\n",
    "spb_price = spb_price[['last_price','cityCenters_nearest_km']]\n",
    "spb_price = spb_price.groupby(by='cityCenters_nearest_km').mean()\n",
    "print(spb_price.plot(style='o-'))\n",
    "\n",
    "#Чем дальше от центра тем цена ниже."
   ]
  },
  {
   "cell_type": "markdown",
   "metadata": {},
   "source": [
    "<B>\n",
    "    Центр города характеризуеться самыми высокими ценами на жилье, далее в переферии цена снижаеться с редким пиком в 26-28 км, возможно это связано с районом удаленным на данную дистанцию."
   ]
  },
  {
   "cell_type": "markdown",
   "metadata": {},
   "source": [
    "### Общий вывод"
   ]
  },
  {
   "cell_type": "markdown",
   "metadata": {},
   "source": [
    "Проделана работа по подготовке данных. <br>\n",
    "Были убраны пропуски,удалены шумы, в некоторых местах пропуски были закрыты медианым значением.<br>\n",
    "В последующем, при сборе данных, стоило бы добавить ограничитель по высоте поталков ~ 10 м. <br>\n",
    "Теперь выводы по анализу данных:<br> \n",
    "Общая площадь обьекта конечно влияет на цену почти линейно,больше всего обьектов площадью 40-50 метров. Так же наибольшее количество обьектов с площадями кухонь от 5 до 15 м. <br>\n",
    "Количество комнат влияет на цену - к 3м комнатам цена возрастает, далее пик цены только на 5 комнатах.<br>\n",
    "Квартиры на первом этаже самые низкие по цене. Самые дорогие квартиры находяться на последних этажах, возможно это связано с жильем премиум класса(пентхаусы или частные одноэтажные дома).<br>\n",
    "В основном обьявления публиковались в будние дни.Самый \"жаркий\" день недели - четверг,у него больше всего опубликованных обьявлений, следом за ним идет понедельник.<br>\n",
    "Цены в течении года разняца, но самые большие сделки проходят либо перед новым годом, либо после. Следом идет июль.<br>\n",
    "Наиболее характерно на цену обьекта влияет год продажи обьекта в 2014 было дешевле всего, в 2017 был пик цены, а к 2019 спад.<br> \n",
    "Были составлены рейтинги населенных пунктов по цене за квадратный метр. <br> \n",
    "По зависимости цена\\удаленность от центра в км по Санкт-Питербургу делаем вывод, что в центре жилье дороже, чем на перефирии  <br> "
   ]
  }
 ],
 "metadata": {
  "ExecuteTimeLog": [
   {
    "duration": 516,
    "start_time": "2022-12-06T12:47:44.280Z"
   },
   {
    "duration": 157,
    "start_time": "2022-12-06T12:47:51.156Z"
   },
   {
    "duration": 103,
    "start_time": "2022-12-06T12:48:12.026Z"
   },
   {
    "duration": 469,
    "start_time": "2022-12-06T12:48:37.496Z"
   },
   {
    "duration": 110,
    "start_time": "2022-12-06T12:48:54.605Z"
   },
   {
    "duration": 110,
    "start_time": "2022-12-06T12:49:28.233Z"
   },
   {
    "duration": 8,
    "start_time": "2022-12-06T12:49:29.480Z"
   },
   {
    "duration": 12,
    "start_time": "2022-12-06T12:49:41.805Z"
   },
   {
    "duration": 17,
    "start_time": "2022-12-06T12:50:25.147Z"
   },
   {
    "duration": 15,
    "start_time": "2022-12-06T12:50:38.308Z"
   },
   {
    "duration": 15,
    "start_time": "2022-12-06T12:51:36.689Z"
   },
   {
    "duration": 132,
    "start_time": "2022-12-06T12:51:47.697Z"
   },
   {
    "duration": 109,
    "start_time": "2022-12-06T12:53:03.307Z"
   },
   {
    "duration": 131,
    "start_time": "2022-12-06T12:53:20.607Z"
   },
   {
    "duration": 105,
    "start_time": "2022-12-06T12:53:29.833Z"
   },
   {
    "duration": 18,
    "start_time": "2022-12-06T12:53:32.474Z"
   },
   {
    "duration": 6,
    "start_time": "2022-12-06T12:53:43.517Z"
   },
   {
    "duration": 91,
    "start_time": "2022-12-06T12:53:52.393Z"
   },
   {
    "duration": 132,
    "start_time": "2022-12-06T12:54:04.397Z"
   },
   {
    "duration": 131,
    "start_time": "2022-12-06T12:54:16.598Z"
   },
   {
    "duration": 29,
    "start_time": "2022-12-06T12:54:18.055Z"
   },
   {
    "duration": 625,
    "start_time": "2022-12-06T12:54:40.211Z"
   },
   {
    "duration": 142,
    "start_time": "2022-12-06T12:55:24.795Z"
   },
   {
    "duration": 125,
    "start_time": "2022-12-06T12:55:33.056Z"
   },
   {
    "duration": 31,
    "start_time": "2022-12-06T13:00:32.715Z"
   },
   {
    "duration": 1148,
    "start_time": "2022-12-06T13:07:43.452Z"
   },
   {
    "duration": 28,
    "start_time": "2022-12-06T13:07:47.503Z"
   },
   {
    "duration": 42,
    "start_time": "2022-12-06T13:09:09.596Z"
   },
   {
    "duration": 48,
    "start_time": "2022-12-06T13:10:04.288Z"
   },
   {
    "duration": 38,
    "start_time": "2022-12-06T13:10:16.916Z"
   },
   {
    "duration": 47,
    "start_time": "2022-12-06T13:10:41.515Z"
   },
   {
    "duration": 37,
    "start_time": "2022-12-06T13:10:45.457Z"
   },
   {
    "duration": 50,
    "start_time": "2022-12-06T13:10:53.623Z"
   },
   {
    "duration": 44,
    "start_time": "2022-12-06T13:11:15.892Z"
   },
   {
    "duration": 29,
    "start_time": "2022-12-06T13:11:21.262Z"
   },
   {
    "duration": 49,
    "start_time": "2022-12-06T13:11:52.222Z"
   },
   {
    "duration": 56,
    "start_time": "2022-12-06T13:21:35.657Z"
   },
   {
    "duration": 64,
    "start_time": "2022-12-06T13:21:39.707Z"
   },
   {
    "duration": 25,
    "start_time": "2022-12-06T13:21:51.085Z"
   },
   {
    "duration": 80,
    "start_time": "2022-12-06T13:22:00.685Z"
   },
   {
    "duration": 27,
    "start_time": "2022-12-06T13:22:06.401Z"
   },
   {
    "duration": 29,
    "start_time": "2022-12-06T13:22:11.425Z"
   },
   {
    "duration": 27,
    "start_time": "2022-12-06T13:22:18.155Z"
   },
   {
    "duration": 38,
    "start_time": "2022-12-06T13:22:58.756Z"
   },
   {
    "duration": 35,
    "start_time": "2022-12-06T13:24:09.083Z"
   },
   {
    "duration": 28,
    "start_time": "2022-12-06T13:24:28.662Z"
   },
   {
    "duration": 30,
    "start_time": "2022-12-06T13:24:38.940Z"
   },
   {
    "duration": 33,
    "start_time": "2022-12-06T13:24:57.631Z"
   },
   {
    "duration": 32,
    "start_time": "2022-12-06T13:25:16.907Z"
   },
   {
    "duration": 34,
    "start_time": "2022-12-06T13:25:32.192Z"
   },
   {
    "duration": 26,
    "start_time": "2022-12-06T13:26:26.545Z"
   },
   {
    "duration": 24,
    "start_time": "2022-12-06T13:26:37.873Z"
   },
   {
    "duration": 30,
    "start_time": "2022-12-06T13:26:49.323Z"
   },
   {
    "duration": 26,
    "start_time": "2022-12-06T13:27:02.481Z"
   },
   {
    "duration": 5,
    "start_time": "2022-12-06T13:28:04.078Z"
   },
   {
    "duration": 39,
    "start_time": "2022-12-06T13:28:22.939Z"
   },
   {
    "duration": 22,
    "start_time": "2022-12-06T13:28:43.479Z"
   },
   {
    "duration": 5,
    "start_time": "2022-12-06T13:33:12.364Z"
   },
   {
    "duration": 7,
    "start_time": "2022-12-06T13:37:24.932Z"
   },
   {
    "duration": 5,
    "start_time": "2022-12-06T13:37:35.552Z"
   },
   {
    "duration": 6,
    "start_time": "2022-12-06T13:37:44.383Z"
   },
   {
    "duration": 123,
    "start_time": "2022-12-06T13:38:02.222Z"
   },
   {
    "duration": 28,
    "start_time": "2022-12-06T13:38:03.031Z"
   },
   {
    "duration": 22,
    "start_time": "2022-12-06T13:38:06.919Z"
   },
   {
    "duration": 9,
    "start_time": "2022-12-06T13:38:15.734Z"
   },
   {
    "duration": 5,
    "start_time": "2022-12-06T13:38:25.718Z"
   },
   {
    "duration": 21,
    "start_time": "2022-12-06T13:38:28.263Z"
   },
   {
    "duration": 11,
    "start_time": "2022-12-06T13:40:59.402Z"
   },
   {
    "duration": 9,
    "start_time": "2022-12-06T13:41:07.096Z"
   },
   {
    "duration": 2310,
    "start_time": "2022-12-06T13:44:34.736Z"
   },
   {
    "duration": 12,
    "start_time": "2022-12-06T13:44:57.147Z"
   },
   {
    "duration": 12,
    "start_time": "2022-12-06T13:45:08.434Z"
   },
   {
    "duration": 13,
    "start_time": "2022-12-06T13:45:11.649Z"
   },
   {
    "duration": 2515,
    "start_time": "2022-12-06T13:45:47.519Z"
   },
   {
    "duration": 2342,
    "start_time": "2022-12-06T13:45:59.019Z"
   },
   {
    "duration": 10,
    "start_time": "2022-12-06T13:46:09.026Z"
   },
   {
    "duration": 13,
    "start_time": "2022-12-06T13:46:39.491Z"
   },
   {
    "duration": 16,
    "start_time": "2022-12-06T13:46:47.153Z"
   },
   {
    "duration": 13,
    "start_time": "2022-12-06T13:46:58.756Z"
   },
   {
    "duration": 8,
    "start_time": "2022-12-06T13:47:06.368Z"
   },
   {
    "duration": 12,
    "start_time": "2022-12-06T13:47:23.719Z"
   },
   {
    "duration": 17,
    "start_time": "2022-12-06T13:47:36.648Z"
   },
   {
    "duration": 6,
    "start_time": "2022-12-06T13:47:39.964Z"
   },
   {
    "duration": 10,
    "start_time": "2022-12-06T13:47:44.578Z"
   },
   {
    "duration": 23,
    "start_time": "2022-12-06T13:49:17.692Z"
   },
   {
    "duration": 28,
    "start_time": "2022-12-06T13:49:30.670Z"
   },
   {
    "duration": 8,
    "start_time": "2022-12-06T13:53:42.525Z"
   },
   {
    "duration": 9,
    "start_time": "2022-12-06T13:53:59.460Z"
   },
   {
    "duration": 22,
    "start_time": "2022-12-06T13:54:35.556Z"
   },
   {
    "duration": 15,
    "start_time": "2022-12-06T13:56:18.963Z"
   },
   {
    "duration": 1234,
    "start_time": "2022-12-06T13:56:51.633Z"
   },
   {
    "duration": 17,
    "start_time": "2022-12-06T13:56:58.785Z"
   },
   {
    "duration": 1234,
    "start_time": "2022-12-06T14:03:39.338Z"
   },
   {
    "duration": 74,
    "start_time": "2022-12-06T14:05:00.976Z"
   },
   {
    "duration": 51,
    "start_time": "2022-12-06T14:05:08.377Z"
   },
   {
    "duration": 26,
    "start_time": "2022-12-06T14:05:19.583Z"
   },
   {
    "duration": 19,
    "start_time": "2022-12-06T14:06:06.030Z"
   },
   {
    "duration": 19,
    "start_time": "2022-12-06T14:08:14.075Z"
   },
   {
    "duration": 11,
    "start_time": "2022-12-06T14:08:45.144Z"
   },
   {
    "duration": 87,
    "start_time": "2022-12-06T14:09:48.666Z"
   },
   {
    "duration": 14,
    "start_time": "2022-12-06T14:10:13.680Z"
   },
   {
    "duration": 24,
    "start_time": "2022-12-06T14:12:23.672Z"
   },
   {
    "duration": 17,
    "start_time": "2022-12-06T14:12:27.993Z"
   },
   {
    "duration": 23,
    "start_time": "2022-12-06T14:12:43.363Z"
   },
   {
    "duration": 1123,
    "start_time": "2022-12-06T14:13:25.737Z"
   },
   {
    "duration": 19,
    "start_time": "2022-12-06T14:14:05.181Z"
   },
   {
    "duration": 26,
    "start_time": "2022-12-06T14:14:23.120Z"
   },
   {
    "duration": 18,
    "start_time": "2022-12-06T14:16:25.579Z"
   },
   {
    "duration": 20,
    "start_time": "2022-12-06T14:16:30.774Z"
   },
   {
    "duration": 30,
    "start_time": "2022-12-06T14:16:35.205Z"
   },
   {
    "duration": 79,
    "start_time": "2022-12-06T14:17:02.651Z"
   },
   {
    "duration": 390,
    "start_time": "2022-12-06T14:17:07.798Z"
   },
   {
    "duration": 41,
    "start_time": "2022-12-06T14:17:10.588Z"
   },
   {
    "duration": 17,
    "start_time": "2022-12-06T14:17:37.894Z"
   },
   {
    "duration": 19,
    "start_time": "2022-12-06T14:18:36.530Z"
   },
   {
    "duration": 127,
    "start_time": "2022-12-06T14:18:56.757Z"
   },
   {
    "duration": 298,
    "start_time": "2022-12-06T14:18:59.172Z"
   },
   {
    "duration": 136,
    "start_time": "2022-12-06T14:19:15.597Z"
   },
   {
    "duration": 10,
    "start_time": "2022-12-06T14:19:19.278Z"
   },
   {
    "duration": 16,
    "start_time": "2022-12-06T14:19:22.026Z"
   },
   {
    "duration": 92,
    "start_time": "2022-12-06T14:26:36.473Z"
   },
   {
    "duration": 4,
    "start_time": "2022-12-06T14:26:55.939Z"
   },
   {
    "duration": 20,
    "start_time": "2022-12-06T14:28:22.735Z"
   },
   {
    "duration": 4,
    "start_time": "2022-12-06T14:28:42.881Z"
   },
   {
    "duration": 10,
    "start_time": "2022-12-06T14:29:06.108Z"
   },
   {
    "duration": 130,
    "start_time": "2022-12-06T14:31:39.493Z"
   },
   {
    "duration": 17,
    "start_time": "2022-12-06T14:32:28.340Z"
   },
   {
    "duration": 7,
    "start_time": "2022-12-06T14:33:11.531Z"
   },
   {
    "duration": 8,
    "start_time": "2022-12-06T14:33:20.903Z"
   },
   {
    "duration": 2212,
    "start_time": "2022-12-06T14:33:59.977Z"
   },
   {
    "duration": 309,
    "start_time": "2022-12-06T14:35:43.704Z"
   },
   {
    "duration": 134,
    "start_time": "2022-12-06T14:35:58.584Z"
   },
   {
    "duration": 1749,
    "start_time": "2022-12-06T14:36:40.690Z"
   },
   {
    "duration": 925,
    "start_time": "2022-12-06T14:37:05.109Z"
   },
   {
    "duration": 144,
    "start_time": "2022-12-06T14:37:09.865Z"
   },
   {
    "duration": 6,
    "start_time": "2022-12-06T14:37:29.640Z"
   },
   {
    "duration": 125,
    "start_time": "2022-12-06T14:38:13.221Z"
   },
   {
    "duration": 14,
    "start_time": "2022-12-06T14:38:16.164Z"
   },
   {
    "duration": 28,
    "start_time": "2022-12-06T14:38:24.483Z"
   },
   {
    "duration": 15,
    "start_time": "2022-12-06T14:39:00.429Z"
   },
   {
    "duration": 104,
    "start_time": "2022-12-06T14:39:04.542Z"
   },
   {
    "duration": 115,
    "start_time": "2022-12-06T14:39:08.640Z"
   },
   {
    "duration": 23,
    "start_time": "2022-12-06T14:39:12.694Z"
   },
   {
    "duration": 13,
    "start_time": "2022-12-06T14:39:16.833Z"
   },
   {
    "duration": 8,
    "start_time": "2022-12-06T14:39:18.176Z"
   },
   {
    "duration": 8,
    "start_time": "2022-12-06T14:40:01.207Z"
   },
   {
    "duration": 10,
    "start_time": "2022-12-06T14:41:17.807Z"
   },
   {
    "duration": 11,
    "start_time": "2022-12-06T14:41:24.397Z"
   },
   {
    "duration": 11,
    "start_time": "2022-12-06T14:41:41.005Z"
   },
   {
    "duration": 13,
    "start_time": "2022-12-06T14:41:45.733Z"
   },
   {
    "duration": 10,
    "start_time": "2022-12-06T14:41:47.881Z"
   },
   {
    "duration": 11,
    "start_time": "2022-12-06T14:41:50.721Z"
   },
   {
    "duration": 8,
    "start_time": "2022-12-06T14:42:18.164Z"
   },
   {
    "duration": 12,
    "start_time": "2022-12-06T14:42:54.310Z"
   },
   {
    "duration": 23,
    "start_time": "2022-12-06T14:43:10.825Z"
   },
   {
    "duration": 13,
    "start_time": "2022-12-06T14:43:19.876Z"
   },
   {
    "duration": 12,
    "start_time": "2022-12-06T14:43:32.137Z"
   },
   {
    "duration": 20,
    "start_time": "2022-12-06T14:43:37.369Z"
   },
   {
    "duration": 299,
    "start_time": "2022-12-06T14:43:41.661Z"
   },
   {
    "duration": 110,
    "start_time": "2022-12-06T14:43:55.072Z"
   },
   {
    "duration": 29,
    "start_time": "2022-12-06T14:43:58.079Z"
   },
   {
    "duration": 25,
    "start_time": "2022-12-06T14:44:02.686Z"
   },
   {
    "duration": 7,
    "start_time": "2022-12-06T14:44:13.490Z"
   },
   {
    "duration": 12,
    "start_time": "2022-12-06T14:44:40.958Z"
   },
   {
    "duration": 6,
    "start_time": "2022-12-06T14:44:46.335Z"
   },
   {
    "duration": 8,
    "start_time": "2022-12-06T14:44:57.815Z"
   },
   {
    "duration": 10,
    "start_time": "2022-12-06T14:45:13.064Z"
   },
   {
    "duration": 12,
    "start_time": "2022-12-06T14:45:15.812Z"
   },
   {
    "duration": 5,
    "start_time": "2022-12-06T14:45:43.246Z"
   },
   {
    "duration": 10,
    "start_time": "2022-12-06T14:46:04.236Z"
   },
   {
    "duration": 1140,
    "start_time": "2022-12-06T14:46:07.939Z"
   },
   {
    "duration": 8,
    "start_time": "2022-12-06T14:46:53.216Z"
   },
   {
    "duration": 26,
    "start_time": "2022-12-06T14:52:39.728Z"
   },
   {
    "duration": 9,
    "start_time": "2022-12-06T14:54:49.236Z"
   },
   {
    "duration": 125,
    "start_time": "2022-12-06T14:55:10.950Z"
   },
   {
    "duration": 24,
    "start_time": "2022-12-06T14:55:12.666Z"
   },
   {
    "duration": 25,
    "start_time": "2022-12-06T14:56:29.269Z"
   },
   {
    "duration": 36,
    "start_time": "2022-12-06T14:58:14.472Z"
   },
   {
    "duration": 43,
    "start_time": "2022-12-06T14:58:25.769Z"
   },
   {
    "duration": 28,
    "start_time": "2022-12-06T14:59:21.367Z"
   },
   {
    "duration": 25,
    "start_time": "2022-12-06T14:59:33.214Z"
   },
   {
    "duration": 27,
    "start_time": "2022-12-06T14:59:41.061Z"
   },
   {
    "duration": 25,
    "start_time": "2022-12-06T14:59:45.207Z"
   },
   {
    "duration": 25,
    "start_time": "2022-12-06T15:06:51.908Z"
   },
   {
    "duration": 26,
    "start_time": "2022-12-06T15:07:03.564Z"
   },
   {
    "duration": 25,
    "start_time": "2022-12-06T15:07:08.866Z"
   },
   {
    "duration": 23,
    "start_time": "2022-12-06T15:07:26.667Z"
   },
   {
    "duration": 25,
    "start_time": "2022-12-06T15:07:32.883Z"
   },
   {
    "duration": 25,
    "start_time": "2022-12-06T15:07:43.471Z"
   },
   {
    "duration": 25,
    "start_time": "2022-12-06T15:07:48.391Z"
   },
   {
    "duration": 25,
    "start_time": "2022-12-06T15:07:54.625Z"
   },
   {
    "duration": 36,
    "start_time": "2022-12-06T15:07:59.740Z"
   },
   {
    "duration": 23,
    "start_time": "2022-12-06T15:08:36.086Z"
   },
   {
    "duration": 37,
    "start_time": "2022-12-06T15:18:02.406Z"
   },
   {
    "duration": 37,
    "start_time": "2022-12-06T15:18:58.465Z"
   },
   {
    "duration": 43,
    "start_time": "2022-12-06T15:20:01.446Z"
   },
   {
    "duration": 39,
    "start_time": "2022-12-06T15:41:51.638Z"
   },
   {
    "duration": 22,
    "start_time": "2022-12-06T15:42:18.279Z"
   },
   {
    "duration": 26,
    "start_time": "2022-12-06T15:42:39.494Z"
   },
   {
    "duration": 24,
    "start_time": "2022-12-06T15:43:34.213Z"
   },
   {
    "duration": 45,
    "start_time": "2022-12-06T15:44:02.041Z"
   },
   {
    "duration": 26,
    "start_time": "2022-12-06T15:44:31.247Z"
   },
   {
    "duration": 30,
    "start_time": "2022-12-06T15:44:53.395Z"
   },
   {
    "duration": 37,
    "start_time": "2022-12-06T15:44:58.047Z"
   },
   {
    "duration": 30,
    "start_time": "2022-12-06T15:47:23.567Z"
   },
   {
    "duration": 55,
    "start_time": "2022-12-06T15:49:09.370Z"
   },
   {
    "duration": 20,
    "start_time": "2022-12-06T15:50:53.400Z"
   },
   {
    "duration": 84,
    "start_time": "2022-12-06T15:52:03.352Z"
   },
   {
    "duration": 325,
    "start_time": "2022-12-06T15:52:16.790Z"
   },
   {
    "duration": 8,
    "start_time": "2022-12-06T15:52:54.633Z"
   },
   {
    "duration": 16,
    "start_time": "2022-12-06T15:55:55.720Z"
   },
   {
    "duration": 23,
    "start_time": "2022-12-06T15:56:00.910Z"
   },
   {
    "duration": 15,
    "start_time": "2022-12-06T15:56:03.277Z"
   },
   {
    "duration": 15,
    "start_time": "2022-12-06T15:56:23.714Z"
   },
   {
    "duration": 8,
    "start_time": "2022-12-06T15:56:53.388Z"
   },
   {
    "duration": 9,
    "start_time": "2022-12-06T15:57:03.561Z"
   },
   {
    "duration": 8,
    "start_time": "2022-12-06T15:58:11.897Z"
   },
   {
    "duration": 11,
    "start_time": "2022-12-06T16:01:50.280Z"
   },
   {
    "duration": 8,
    "start_time": "2022-12-06T16:02:24.727Z"
   },
   {
    "duration": 9,
    "start_time": "2022-12-06T16:02:28.962Z"
   },
   {
    "duration": 9,
    "start_time": "2022-12-06T16:02:33.419Z"
   },
   {
    "duration": 813,
    "start_time": "2022-12-06T16:02:35.124Z"
   },
   {
    "duration": 226,
    "start_time": "2022-12-06T16:02:41.122Z"
   },
   {
    "duration": 136,
    "start_time": "2022-12-06T16:02:44.657Z"
   },
   {
    "duration": 24,
    "start_time": "2022-12-06T16:02:46.769Z"
   },
   {
    "duration": 13,
    "start_time": "2022-12-06T16:02:48.083Z"
   },
   {
    "duration": 35,
    "start_time": "2022-12-06T16:02:49.348Z"
   },
   {
    "duration": 10,
    "start_time": "2022-12-06T16:05:39.565Z"
   },
   {
    "duration": 13,
    "start_time": "2022-12-06T16:05:42.265Z"
   },
   {
    "duration": 23,
    "start_time": "2022-12-06T16:05:48.005Z"
   },
   {
    "duration": 122,
    "start_time": "2022-12-06T16:05:55.545Z"
   },
   {
    "duration": 616,
    "start_time": "2022-12-06T16:05:57.157Z"
   },
   {
    "duration": 30,
    "start_time": "2022-12-06T16:05:59.781Z"
   },
   {
    "duration": 13,
    "start_time": "2022-12-06T16:06:01.620Z"
   },
   {
    "duration": 14,
    "start_time": "2022-12-06T16:06:29.883Z"
   },
   {
    "duration": 13,
    "start_time": "2022-12-06T16:06:32.800Z"
   },
   {
    "duration": 120,
    "start_time": "2022-12-06T16:06:42.158Z"
   },
   {
    "duration": 29,
    "start_time": "2022-12-06T16:06:42.702Z"
   },
   {
    "duration": 13,
    "start_time": "2022-12-06T16:06:47.780Z"
   },
   {
    "duration": 12,
    "start_time": "2022-12-06T16:07:02.736Z"
   },
   {
    "duration": 22,
    "start_time": "2022-12-06T16:07:10.479Z"
   },
   {
    "duration": 125,
    "start_time": "2022-12-06T16:07:37.220Z"
   },
   {
    "duration": 16,
    "start_time": "2022-12-06T16:07:41.482Z"
   },
   {
    "duration": 30,
    "start_time": "2022-12-06T16:07:42.880Z"
   },
   {
    "duration": 39,
    "start_time": "2022-12-06T16:08:43.369Z"
   },
   {
    "duration": 16,
    "start_time": "2022-12-06T16:08:57.197Z"
   },
   {
    "duration": 49,
    "start_time": "2022-12-06T16:09:02.171Z"
   },
   {
    "duration": 45,
    "start_time": "2022-12-06T16:09:08.265Z"
   },
   {
    "duration": 45,
    "start_time": "2022-12-06T16:09:20.072Z"
   },
   {
    "duration": 10,
    "start_time": "2022-12-06T16:12:59.186Z"
   },
   {
    "duration": 15,
    "start_time": "2022-12-06T16:13:14.204Z"
   },
   {
    "duration": 10,
    "start_time": "2022-12-06T16:13:18.939Z"
   },
   {
    "duration": 52,
    "start_time": "2022-12-06T16:13:43.408Z"
   },
   {
    "duration": 24,
    "start_time": "2022-12-06T16:14:03.401Z"
   },
   {
    "duration": 49,
    "start_time": "2022-12-06T16:14:14.112Z"
   },
   {
    "duration": 12,
    "start_time": "2022-12-06T16:14:18.490Z"
   },
   {
    "duration": 22,
    "start_time": "2022-12-06T16:15:55.383Z"
   },
   {
    "duration": 23,
    "start_time": "2022-12-06T16:16:06.358Z"
   },
   {
    "duration": 24,
    "start_time": "2022-12-06T16:16:38.253Z"
   },
   {
    "duration": 26,
    "start_time": "2022-12-06T16:17:24.238Z"
   },
   {
    "duration": 44,
    "start_time": "2022-12-06T16:20:43.313Z"
   },
   {
    "duration": 5,
    "start_time": "2022-12-06T16:21:42.242Z"
   },
   {
    "duration": 24,
    "start_time": "2022-12-06T16:21:44.709Z"
   },
   {
    "duration": 8,
    "start_time": "2022-12-06T16:23:04.226Z"
   },
   {
    "duration": 9,
    "start_time": "2022-12-06T16:23:09.284Z"
   },
   {
    "duration": 31,
    "start_time": "2022-12-06T16:23:11.874Z"
   },
   {
    "duration": 727,
    "start_time": "2022-12-08T11:49:29.974Z"
   },
   {
    "duration": 23,
    "start_time": "2022-12-08T11:49:36.592Z"
   },
   {
    "duration": 60,
    "start_time": "2022-12-08T11:49:37.618Z"
   },
   {
    "duration": 6,
    "start_time": "2022-12-08T11:49:43.347Z"
   },
   {
    "duration": 27,
    "start_time": "2022-12-08T11:49:46.139Z"
   },
   {
    "duration": 25,
    "start_time": "2022-12-08T11:50:14.270Z"
   },
   {
    "duration": 97,
    "start_time": "2022-12-08T11:51:14.042Z"
   },
   {
    "duration": 14,
    "start_time": "2022-12-08T11:51:16.420Z"
   },
   {
    "duration": 12,
    "start_time": "2022-12-08T11:51:28.011Z"
   },
   {
    "duration": 6,
    "start_time": "2022-12-08T11:53:18.951Z"
   },
   {
    "duration": 36,
    "start_time": "2022-12-08T11:54:20.440Z"
   },
   {
    "duration": 7,
    "start_time": "2022-12-08T11:54:33.578Z"
   },
   {
    "duration": 6,
    "start_time": "2022-12-08T11:54:56.335Z"
   },
   {
    "duration": 5,
    "start_time": "2022-12-08T11:55:56.694Z"
   },
   {
    "duration": 9,
    "start_time": "2022-12-08T12:04:49.161Z"
   },
   {
    "duration": 71,
    "start_time": "2022-12-08T12:05:10.844Z"
   },
   {
    "duration": 7,
    "start_time": "2022-12-08T12:05:27.762Z"
   },
   {
    "duration": 48,
    "start_time": "2022-12-08T12:06:40.366Z"
   },
   {
    "duration": 31,
    "start_time": "2022-12-08T12:07:25.550Z"
   },
   {
    "duration": 19,
    "start_time": "2022-12-08T12:07:59.998Z"
   },
   {
    "duration": 6,
    "start_time": "2022-12-08T12:08:17.452Z"
   },
   {
    "duration": 4,
    "start_time": "2022-12-08T12:08:30.546Z"
   },
   {
    "duration": 6,
    "start_time": "2022-12-08T12:08:52.351Z"
   },
   {
    "duration": 6,
    "start_time": "2022-12-08T12:10:08.763Z"
   },
   {
    "duration": 152,
    "start_time": "2022-12-08T12:10:12.546Z"
   },
   {
    "duration": 61,
    "start_time": "2022-12-08T12:10:12.701Z"
   },
   {
    "duration": 705,
    "start_time": "2022-12-08T12:10:12.765Z"
   },
   {
    "duration": 20,
    "start_time": "2022-12-08T12:10:13.472Z"
   },
   {
    "duration": 17,
    "start_time": "2022-12-08T12:10:13.495Z"
   },
   {
    "duration": 51,
    "start_time": "2022-12-08T12:10:13.514Z"
   },
   {
    "duration": 42,
    "start_time": "2022-12-08T12:10:13.566Z"
   },
   {
    "duration": 5,
    "start_time": "2022-12-08T12:10:13.609Z"
   },
   {
    "duration": 57,
    "start_time": "2022-12-08T12:10:13.616Z"
   },
   {
    "duration": 108,
    "start_time": "2022-12-08T12:10:13.675Z"
   },
   {
    "duration": 8,
    "start_time": "2022-12-08T12:10:13.785Z"
   },
   {
    "duration": 7,
    "start_time": "2022-12-08T12:10:21.201Z"
   },
   {
    "duration": 6,
    "start_time": "2022-12-08T12:13:10.094Z"
   },
   {
    "duration": 8,
    "start_time": "2022-12-08T12:13:15.518Z"
   },
   {
    "duration": 3,
    "start_time": "2022-12-08T12:15:05.995Z"
   },
   {
    "duration": 7,
    "start_time": "2022-12-08T12:16:08.713Z"
   },
   {
    "duration": 12,
    "start_time": "2022-12-08T12:16:21.796Z"
   },
   {
    "duration": 11,
    "start_time": "2022-12-08T12:16:31.608Z"
   },
   {
    "duration": 5,
    "start_time": "2022-12-08T12:16:39.795Z"
   },
   {
    "duration": 13,
    "start_time": "2022-12-08T12:16:46.272Z"
   },
   {
    "duration": 15,
    "start_time": "2022-12-08T12:22:34.325Z"
   },
   {
    "duration": 9,
    "start_time": "2022-12-08T12:22:37.011Z"
   },
   {
    "duration": 46,
    "start_time": "2022-12-08T12:38:42.751Z"
   },
   {
    "duration": 22,
    "start_time": "2022-12-08T12:39:27.006Z"
   },
   {
    "duration": 44,
    "start_time": "2022-12-08T12:39:45.768Z"
   },
   {
    "duration": 11,
    "start_time": "2022-12-08T12:39:49.085Z"
   },
   {
    "duration": 50,
    "start_time": "2022-12-08T12:39:58.412Z"
   },
   {
    "duration": 17,
    "start_time": "2022-12-08T12:41:55.715Z"
   },
   {
    "duration": 5,
    "start_time": "2022-12-08T12:44:18.703Z"
   },
   {
    "duration": 2,
    "start_time": "2022-12-08T12:52:13.257Z"
   },
   {
    "duration": 846,
    "start_time": "2022-12-08T12:55:53.559Z"
   },
   {
    "duration": 14,
    "start_time": "2022-12-08T12:56:00.761Z"
   },
   {
    "duration": 828,
    "start_time": "2022-12-08T12:59:48.769Z"
   },
   {
    "duration": 922,
    "start_time": "2022-12-08T13:02:57.444Z"
   },
   {
    "duration": 26,
    "start_time": "2022-12-08T13:03:18.028Z"
   },
   {
    "duration": 13,
    "start_time": "2022-12-08T13:04:31.828Z"
   },
   {
    "duration": 243,
    "start_time": "2022-12-08T13:05:59.966Z"
   },
   {
    "duration": 8,
    "start_time": "2022-12-08T13:06:11.587Z"
   },
   {
    "duration": 328,
    "start_time": "2022-12-08T13:06:16.083Z"
   },
   {
    "duration": 12,
    "start_time": "2022-12-08T13:07:18.782Z"
   },
   {
    "duration": 5,
    "start_time": "2022-12-08T13:07:54.379Z"
   },
   {
    "duration": 22,
    "start_time": "2022-12-08T13:08:19.367Z"
   },
   {
    "duration": 15,
    "start_time": "2022-12-08T13:08:21.152Z"
   },
   {
    "duration": 2,
    "start_time": "2022-12-08T13:13:31.174Z"
   },
   {
    "duration": 17,
    "start_time": "2022-12-08T13:15:06.646Z"
   },
   {
    "duration": 5,
    "start_time": "2022-12-08T13:31:50.938Z"
   },
   {
    "duration": 13,
    "start_time": "2022-12-08T13:31:56.181Z"
   },
   {
    "duration": 4,
    "start_time": "2022-12-08T13:32:12.187Z"
   },
   {
    "duration": 13,
    "start_time": "2022-12-08T13:32:15.441Z"
   },
   {
    "duration": 7,
    "start_time": "2022-12-08T13:32:37.017Z"
   },
   {
    "duration": 116,
    "start_time": "2022-12-08T13:32:51.619Z"
   },
   {
    "duration": 25,
    "start_time": "2022-12-08T13:32:51.737Z"
   },
   {
    "duration": 539,
    "start_time": "2022-12-08T13:32:51.764Z"
   },
   {
    "duration": 39,
    "start_time": "2022-12-08T13:32:52.305Z"
   },
   {
    "duration": 17,
    "start_time": "2022-12-08T13:32:52.348Z"
   },
   {
    "duration": 45,
    "start_time": "2022-12-08T13:32:52.368Z"
   },
   {
    "duration": 74,
    "start_time": "2022-12-08T13:32:52.416Z"
   },
   {
    "duration": 9,
    "start_time": "2022-12-08T13:32:52.492Z"
   },
   {
    "duration": 49,
    "start_time": "2022-12-08T13:32:52.503Z"
   },
   {
    "duration": 139,
    "start_time": "2022-12-08T13:32:52.554Z"
   },
   {
    "duration": 7,
    "start_time": "2022-12-08T13:32:52.695Z"
   },
   {
    "duration": 15,
    "start_time": "2022-12-08T13:32:52.704Z"
   },
   {
    "duration": 28,
    "start_time": "2022-12-08T13:32:52.720Z"
   },
   {
    "duration": 21,
    "start_time": "2022-12-08T13:32:52.750Z"
   },
   {
    "duration": 12,
    "start_time": "2022-12-08T13:32:52.773Z"
   },
   {
    "duration": 12,
    "start_time": "2022-12-08T13:32:56.804Z"
   },
   {
    "duration": 15,
    "start_time": "2022-12-08T13:33:27.758Z"
   },
   {
    "duration": 5,
    "start_time": "2022-12-08T13:34:15.852Z"
   },
   {
    "duration": 6,
    "start_time": "2022-12-08T13:34:26.467Z"
   },
   {
    "duration": 125,
    "start_time": "2022-12-08T13:34:35.683Z"
   },
   {
    "duration": 37,
    "start_time": "2022-12-08T13:34:35.810Z"
   },
   {
    "duration": 546,
    "start_time": "2022-12-08T13:34:35.849Z"
   },
   {
    "duration": 22,
    "start_time": "2022-12-08T13:34:36.397Z"
   },
   {
    "duration": 19,
    "start_time": "2022-12-08T13:34:36.436Z"
   },
   {
    "duration": 29,
    "start_time": "2022-12-08T13:34:36.457Z"
   },
   {
    "duration": 71,
    "start_time": "2022-12-08T13:34:36.487Z"
   },
   {
    "duration": 7,
    "start_time": "2022-12-08T13:34:36.559Z"
   },
   {
    "duration": 55,
    "start_time": "2022-12-08T13:34:36.568Z"
   },
   {
    "duration": 158,
    "start_time": "2022-12-08T13:34:36.625Z"
   },
   {
    "duration": 12,
    "start_time": "2022-12-08T13:34:36.785Z"
   },
   {
    "duration": 16,
    "start_time": "2022-12-08T13:34:36.799Z"
   },
   {
    "duration": 25,
    "start_time": "2022-12-08T13:34:36.816Z"
   },
   {
    "duration": 36,
    "start_time": "2022-12-08T13:34:36.848Z"
   },
   {
    "duration": 16,
    "start_time": "2022-12-08T13:34:36.887Z"
   },
   {
    "duration": 4,
    "start_time": "2022-12-08T13:34:41.524Z"
   },
   {
    "duration": 7,
    "start_time": "2022-12-08T13:34:47.891Z"
   },
   {
    "duration": 6,
    "start_time": "2022-12-08T13:34:49.282Z"
   },
   {
    "duration": 8,
    "start_time": "2022-12-08T13:34:50.646Z"
   },
   {
    "duration": 15,
    "start_time": "2022-12-08T13:34:57.790Z"
   },
   {
    "duration": 48,
    "start_time": "2022-12-08T13:35:34.153Z"
   },
   {
    "duration": 58,
    "start_time": "2022-12-08T13:35:40.705Z"
   },
   {
    "duration": 5,
    "start_time": "2022-12-08T13:35:44.323Z"
   },
   {
    "duration": 8,
    "start_time": "2022-12-08T13:35:52.211Z"
   },
   {
    "duration": 6,
    "start_time": "2022-12-08T13:35:57.869Z"
   },
   {
    "duration": 6,
    "start_time": "2022-12-08T13:36:06.188Z"
   },
   {
    "duration": 6,
    "start_time": "2022-12-08T13:36:27.084Z"
   },
   {
    "duration": 6,
    "start_time": "2022-12-08T13:37:08.205Z"
   },
   {
    "duration": 5,
    "start_time": "2022-12-08T13:37:15.390Z"
   },
   {
    "duration": 6,
    "start_time": "2022-12-08T13:37:27.317Z"
   },
   {
    "duration": 8,
    "start_time": "2022-12-08T13:38:38.683Z"
   },
   {
    "duration": 8,
    "start_time": "2022-12-08T13:39:04.419Z"
   },
   {
    "duration": 7,
    "start_time": "2022-12-08T13:39:11.355Z"
   },
   {
    "duration": 6,
    "start_time": "2022-12-08T13:40:35.413Z"
   },
   {
    "duration": 5,
    "start_time": "2022-12-08T13:40:53.074Z"
   },
   {
    "duration": 5,
    "start_time": "2022-12-08T13:42:02.793Z"
   },
   {
    "duration": 9,
    "start_time": "2022-12-08T13:43:58.075Z"
   },
   {
    "duration": 21,
    "start_time": "2022-12-08T13:44:14.399Z"
   },
   {
    "duration": 9,
    "start_time": "2022-12-08T13:44:35.392Z"
   },
   {
    "duration": 4,
    "start_time": "2022-12-08T13:44:40.406Z"
   },
   {
    "duration": 10,
    "start_time": "2022-12-08T13:45:14.749Z"
   },
   {
    "duration": 12,
    "start_time": "2022-12-08T13:45:32.509Z"
   },
   {
    "duration": 7,
    "start_time": "2022-12-08T13:45:45.258Z"
   },
   {
    "duration": 24,
    "start_time": "2022-12-08T13:45:50.686Z"
   },
   {
    "duration": 9,
    "start_time": "2022-12-08T13:45:55.556Z"
   },
   {
    "duration": 18,
    "start_time": "2022-12-08T13:46:00.132Z"
   },
   {
    "duration": 5,
    "start_time": "2022-12-08T13:46:32.352Z"
   },
   {
    "duration": 5,
    "start_time": "2022-12-08T13:46:52.049Z"
   },
   {
    "duration": 7,
    "start_time": "2022-12-08T13:47:10.305Z"
   },
   {
    "duration": 8,
    "start_time": "2022-12-08T13:50:17.117Z"
   },
   {
    "duration": 36,
    "start_time": "2022-12-08T13:50:33.694Z"
   },
   {
    "duration": 33,
    "start_time": "2022-12-08T13:50:50.000Z"
   },
   {
    "duration": 32,
    "start_time": "2022-12-08T13:51:40.903Z"
   },
   {
    "duration": 9,
    "start_time": "2022-12-08T13:52:03.423Z"
   },
   {
    "duration": 47,
    "start_time": "2022-12-08T13:52:15.950Z"
   },
   {
    "duration": 25,
    "start_time": "2022-12-08T13:52:19.117Z"
   },
   {
    "duration": 10,
    "start_time": "2022-12-08T13:52:32.938Z"
   },
   {
    "duration": 19,
    "start_time": "2022-12-08T13:53:01.314Z"
   },
   {
    "duration": 9,
    "start_time": "2022-12-08T13:53:05.963Z"
   },
   {
    "duration": 12,
    "start_time": "2022-12-08T13:56:46.673Z"
   },
   {
    "duration": 9,
    "start_time": "2022-12-08T13:57:00.224Z"
   },
   {
    "duration": 10,
    "start_time": "2022-12-08T13:57:29.092Z"
   },
   {
    "duration": 9,
    "start_time": "2022-12-08T13:57:33.179Z"
   },
   {
    "duration": 13,
    "start_time": "2022-12-08T13:57:46.088Z"
   },
   {
    "duration": 7,
    "start_time": "2022-12-08T13:59:58.914Z"
   },
   {
    "duration": 6,
    "start_time": "2022-12-08T14:00:03.359Z"
   },
   {
    "duration": 6,
    "start_time": "2022-12-08T14:00:07.784Z"
   },
   {
    "duration": 7,
    "start_time": "2022-12-08T14:00:12.965Z"
   },
   {
    "duration": 12,
    "start_time": "2022-12-08T14:00:27.272Z"
   },
   {
    "duration": 110,
    "start_time": "2022-12-08T14:00:57.458Z"
   },
   {
    "duration": 27,
    "start_time": "2022-12-08T14:00:57.570Z"
   },
   {
    "duration": 500,
    "start_time": "2022-12-08T14:00:57.599Z"
   },
   {
    "duration": 22,
    "start_time": "2022-12-08T14:00:58.101Z"
   },
   {
    "duration": 36,
    "start_time": "2022-12-08T14:00:58.136Z"
   },
   {
    "duration": 34,
    "start_time": "2022-12-08T14:00:58.173Z"
   },
   {
    "duration": 53,
    "start_time": "2022-12-08T14:00:58.208Z"
   },
   {
    "duration": 6,
    "start_time": "2022-12-08T14:00:58.263Z"
   },
   {
    "duration": 38,
    "start_time": "2022-12-08T14:00:58.271Z"
   },
   {
    "duration": 111,
    "start_time": "2022-12-08T14:00:58.311Z"
   },
   {
    "duration": 21,
    "start_time": "2022-12-08T14:00:58.424Z"
   },
   {
    "duration": 8,
    "start_time": "2022-12-08T14:00:58.451Z"
   },
   {
    "duration": 16,
    "start_time": "2022-12-08T14:00:58.461Z"
   },
   {
    "duration": 5,
    "start_time": "2022-12-08T14:00:58.479Z"
   },
   {
    "duration": 10,
    "start_time": "2022-12-08T14:00:58.486Z"
   },
   {
    "duration": 9,
    "start_time": "2022-12-08T14:01:31.068Z"
   },
   {
    "duration": 13,
    "start_time": "2022-12-08T14:02:16.267Z"
   },
   {
    "duration": 7,
    "start_time": "2022-12-08T14:02:55.274Z"
   },
   {
    "duration": 3,
    "start_time": "2022-12-08T14:02:59.697Z"
   },
   {
    "duration": 8,
    "start_time": "2022-12-08T14:03:08.126Z"
   },
   {
    "duration": 8,
    "start_time": "2022-12-08T14:03:28.735Z"
   },
   {
    "duration": 45,
    "start_time": "2022-12-08T14:03:36.877Z"
   },
   {
    "duration": 4,
    "start_time": "2022-12-08T14:03:54.379Z"
   },
   {
    "duration": 6,
    "start_time": "2022-12-08T14:04:01.833Z"
   },
   {
    "duration": 16,
    "start_time": "2022-12-08T14:04:06.485Z"
   },
   {
    "duration": 5,
    "start_time": "2022-12-08T14:04:59.924Z"
   },
   {
    "duration": 8,
    "start_time": "2022-12-08T14:05:05.509Z"
   },
   {
    "duration": 8,
    "start_time": "2022-12-08T14:05:12.969Z"
   },
   {
    "duration": 27,
    "start_time": "2022-12-08T14:05:27.727Z"
   },
   {
    "duration": 8,
    "start_time": "2022-12-08T14:05:33.085Z"
   },
   {
    "duration": 7,
    "start_time": "2022-12-08T14:05:37.122Z"
   },
   {
    "duration": 14,
    "start_time": "2022-12-08T14:05:44.891Z"
   },
   {
    "duration": 2233,
    "start_time": "2022-12-08T14:06:13.352Z"
   },
   {
    "duration": 2259,
    "start_time": "2022-12-08T14:07:04.650Z"
   },
   {
    "duration": 4244,
    "start_time": "2022-12-08T14:07:42.574Z"
   },
   {
    "duration": 13,
    "start_time": "2022-12-08T14:12:46.482Z"
   },
   {
    "duration": 14,
    "start_time": "2022-12-08T14:12:58.015Z"
   },
   {
    "duration": 9,
    "start_time": "2022-12-08T14:13:01.754Z"
   },
   {
    "duration": 7,
    "start_time": "2022-12-08T14:14:00.418Z"
   },
   {
    "duration": 14,
    "start_time": "2022-12-08T14:14:02.737Z"
   },
   {
    "duration": 9,
    "start_time": "2022-12-08T14:14:13.648Z"
   },
   {
    "duration": 10,
    "start_time": "2022-12-08T14:14:15.052Z"
   },
   {
    "duration": 4814,
    "start_time": "2022-12-08T14:14:20.158Z"
   },
   {
    "duration": 16,
    "start_time": "2022-12-08T14:14:52.006Z"
   },
   {
    "duration": 7,
    "start_time": "2022-12-08T14:14:53.295Z"
   },
   {
    "duration": 120,
    "start_time": "2022-12-08T14:15:05.583Z"
   },
   {
    "duration": 30,
    "start_time": "2022-12-08T14:15:05.705Z"
   },
   {
    "duration": 801,
    "start_time": "2022-12-08T14:15:05.737Z"
   },
   {
    "duration": 23,
    "start_time": "2022-12-08T14:15:06.539Z"
   },
   {
    "duration": 56,
    "start_time": "2022-12-08T14:15:06.564Z"
   },
   {
    "duration": 64,
    "start_time": "2022-12-08T14:15:06.622Z"
   },
   {
    "duration": 86,
    "start_time": "2022-12-08T14:15:06.688Z"
   },
   {
    "duration": 10,
    "start_time": "2022-12-08T14:15:06.777Z"
   },
   {
    "duration": 78,
    "start_time": "2022-12-08T14:15:06.790Z"
   },
   {
    "duration": 148,
    "start_time": "2022-12-08T14:15:06.870Z"
   },
   {
    "duration": 9,
    "start_time": "2022-12-08T14:15:07.019Z"
   },
   {
    "duration": 22,
    "start_time": "2022-12-08T14:15:07.036Z"
   },
   {
    "duration": 43,
    "start_time": "2022-12-08T14:15:07.060Z"
   },
   {
    "duration": 35,
    "start_time": "2022-12-08T14:15:07.106Z"
   },
   {
    "duration": 4661,
    "start_time": "2022-12-08T14:15:07.143Z"
   },
   {
    "duration": 10,
    "start_time": "2022-12-08T14:15:11.806Z"
   },
   {
    "duration": 26,
    "start_time": "2022-12-08T14:15:11.818Z"
   },
   {
    "duration": 7,
    "start_time": "2022-12-08T14:16:07.408Z"
   },
   {
    "duration": 11,
    "start_time": "2022-12-08T14:16:08.682Z"
   },
   {
    "duration": 10,
    "start_time": "2022-12-08T14:16:14.362Z"
   },
   {
    "duration": 9,
    "start_time": "2022-12-08T14:16:16.106Z"
   },
   {
    "duration": 9,
    "start_time": "2022-12-08T14:16:20.209Z"
   },
   {
    "duration": 8,
    "start_time": "2022-12-08T14:16:26.003Z"
   },
   {
    "duration": 12,
    "start_time": "2022-12-08T14:16:27.201Z"
   },
   {
    "duration": 10,
    "start_time": "2022-12-08T14:16:48.321Z"
   },
   {
    "duration": 8,
    "start_time": "2022-12-08T14:16:49.629Z"
   },
   {
    "duration": 10,
    "start_time": "2022-12-08T14:17:10.883Z"
   },
   {
    "duration": 11,
    "start_time": "2022-12-08T14:17:12.153Z"
   },
   {
    "duration": 11,
    "start_time": "2022-12-08T14:17:21.248Z"
   },
   {
    "duration": 9,
    "start_time": "2022-12-08T14:17:22.793Z"
   },
   {
    "duration": 6,
    "start_time": "2022-12-08T14:17:51.350Z"
   },
   {
    "duration": 7,
    "start_time": "2022-12-08T14:18:20.840Z"
   },
   {
    "duration": 6,
    "start_time": "2022-12-08T14:18:26.122Z"
   },
   {
    "duration": 6,
    "start_time": "2022-12-08T14:18:38.193Z"
   },
   {
    "duration": 29,
    "start_time": "2022-12-08T14:18:51.135Z"
   },
   {
    "duration": 10,
    "start_time": "2022-12-08T14:19:29.716Z"
   },
   {
    "duration": 11,
    "start_time": "2022-12-08T14:19:51.322Z"
   },
   {
    "duration": 10,
    "start_time": "2022-12-08T14:19:54.158Z"
   },
   {
    "duration": 11,
    "start_time": "2022-12-08T14:20:07.091Z"
   },
   {
    "duration": 26,
    "start_time": "2022-12-08T14:20:14.703Z"
   },
   {
    "duration": 10,
    "start_time": "2022-12-08T14:20:22.801Z"
   },
   {
    "duration": 18,
    "start_time": "2022-12-08T14:20:27.175Z"
   },
   {
    "duration": 9,
    "start_time": "2022-12-08T14:20:31.108Z"
   },
   {
    "duration": 16,
    "start_time": "2022-12-08T14:20:32.542Z"
   },
   {
    "duration": 8,
    "start_time": "2022-12-08T14:21:20.729Z"
   },
   {
    "duration": 12,
    "start_time": "2022-12-08T14:21:22.238Z"
   },
   {
    "duration": 9,
    "start_time": "2022-12-08T14:22:00.717Z"
   },
   {
    "duration": 10,
    "start_time": "2022-12-08T14:23:28.746Z"
   },
   {
    "duration": 13,
    "start_time": "2022-12-08T14:23:30.650Z"
   },
   {
    "duration": 5,
    "start_time": "2022-12-08T15:02:26.948Z"
   },
   {
    "duration": 5,
    "start_time": "2022-12-08T15:04:45.970Z"
   },
   {
    "duration": 13,
    "start_time": "2022-12-08T15:06:26.475Z"
   },
   {
    "duration": 53,
    "start_time": "2022-12-08T15:08:41.490Z"
   },
   {
    "duration": 52,
    "start_time": "2022-12-08T15:08:52.079Z"
   },
   {
    "duration": 114,
    "start_time": "2022-12-08T15:09:00.750Z"
   },
   {
    "duration": 33,
    "start_time": "2022-12-08T15:09:00.866Z"
   },
   {
    "duration": 491,
    "start_time": "2022-12-08T15:09:00.901Z"
   },
   {
    "duration": 21,
    "start_time": "2022-12-08T15:09:01.394Z"
   },
   {
    "duration": 33,
    "start_time": "2022-12-08T15:09:01.416Z"
   },
   {
    "duration": 38,
    "start_time": "2022-12-08T15:09:01.451Z"
   },
   {
    "duration": 54,
    "start_time": "2022-12-08T15:09:01.491Z"
   },
   {
    "duration": 10,
    "start_time": "2022-12-08T15:09:01.546Z"
   },
   {
    "duration": 32,
    "start_time": "2022-12-08T15:09:01.558Z"
   },
   {
    "duration": 108,
    "start_time": "2022-12-08T15:09:01.593Z"
   },
   {
    "duration": 7,
    "start_time": "2022-12-08T15:09:01.703Z"
   },
   {
    "duration": 10,
    "start_time": "2022-12-08T15:09:01.712Z"
   },
   {
    "duration": 30,
    "start_time": "2022-12-08T15:09:01.723Z"
   },
   {
    "duration": 14,
    "start_time": "2022-12-08T15:09:01.755Z"
   },
   {
    "duration": 27,
    "start_time": "2022-12-08T15:09:01.770Z"
   },
   {
    "duration": 23,
    "start_time": "2022-12-08T15:09:01.799Z"
   },
   {
    "duration": 60,
    "start_time": "2022-12-08T15:09:01.824Z"
   },
   {
    "duration": 12,
    "start_time": "2022-12-08T15:09:12.846Z"
   },
   {
    "duration": 11,
    "start_time": "2022-12-08T15:09:21.517Z"
   },
   {
    "duration": 15,
    "start_time": "2022-12-08T15:12:59.353Z"
   },
   {
    "duration": 7,
    "start_time": "2022-12-08T15:13:26.697Z"
   },
   {
    "duration": 11,
    "start_time": "2022-12-08T15:13:37.243Z"
   },
   {
    "duration": 25,
    "start_time": "2022-12-08T15:13:44.592Z"
   },
   {
    "duration": 11,
    "start_time": "2022-12-08T15:15:47.606Z"
   },
   {
    "duration": 11,
    "start_time": "2022-12-08T15:16:04.979Z"
   },
   {
    "duration": 9100,
    "start_time": "2022-12-08T15:16:56.414Z"
   },
   {
    "duration": 25,
    "start_time": "2022-12-08T15:17:05.554Z"
   },
   {
    "duration": 10,
    "start_time": "2022-12-08T15:17:31.561Z"
   },
   {
    "duration": 12,
    "start_time": "2022-12-08T15:18:22.345Z"
   },
   {
    "duration": 14,
    "start_time": "2022-12-08T15:18:41.694Z"
   },
   {
    "duration": 45,
    "start_time": "2022-12-08T15:18:59.760Z"
   },
   {
    "duration": 14,
    "start_time": "2022-12-08T15:19:08.743Z"
   },
   {
    "duration": 15,
    "start_time": "2022-12-08T15:19:32.489Z"
   },
   {
    "duration": 10,
    "start_time": "2022-12-08T15:21:29.881Z"
   },
   {
    "duration": 11,
    "start_time": "2022-12-08T15:21:43.243Z"
   },
   {
    "duration": 55,
    "start_time": "2022-12-08T15:27:12.200Z"
   },
   {
    "duration": 7,
    "start_time": "2022-12-08T15:27:17.535Z"
   },
   {
    "duration": 904,
    "start_time": "2022-12-08T15:28:52.955Z"
   },
   {
    "duration": 399,
    "start_time": "2022-12-08T15:29:24.485Z"
   },
   {
    "duration": 11,
    "start_time": "2022-12-08T15:29:38.707Z"
   },
   {
    "duration": 430,
    "start_time": "2022-12-08T15:29:48.364Z"
   },
   {
    "duration": 27,
    "start_time": "2022-12-08T15:30:09.183Z"
   },
   {
    "duration": 15,
    "start_time": "2022-12-08T15:31:17.703Z"
   },
   {
    "duration": 82,
    "start_time": "2022-12-08T15:36:23.701Z"
   },
   {
    "duration": 51,
    "start_time": "2022-12-08T15:36:39.758Z"
   },
   {
    "duration": 75,
    "start_time": "2022-12-08T15:36:45.117Z"
   },
   {
    "duration": 74,
    "start_time": "2022-12-08T15:37:07.562Z"
   },
   {
    "duration": 16,
    "start_time": "2022-12-08T15:37:12.858Z"
   },
   {
    "duration": 15,
    "start_time": "2022-12-08T15:37:30.302Z"
   },
   {
    "duration": 18,
    "start_time": "2022-12-08T15:38:02.499Z"
   },
   {
    "duration": 693,
    "start_time": "2022-12-08T15:39:21.513Z"
   },
   {
    "duration": 639,
    "start_time": "2022-12-08T15:39:36.552Z"
   },
   {
    "duration": 863,
    "start_time": "2022-12-08T15:40:22.007Z"
   },
   {
    "duration": 713,
    "start_time": "2022-12-08T15:41:03.742Z"
   },
   {
    "duration": 9,
    "start_time": "2022-12-08T15:41:18.561Z"
   },
   {
    "duration": 629,
    "start_time": "2022-12-08T15:41:25.070Z"
   },
   {
    "duration": 47,
    "start_time": "2022-12-08T15:45:19.323Z"
   },
   {
    "duration": 218,
    "start_time": "2022-12-08T15:45:39.606Z"
   },
   {
    "duration": 23,
    "start_time": "2022-12-08T15:45:45.614Z"
   },
   {
    "duration": 44,
    "start_time": "2022-12-08T15:46:00.927Z"
   },
   {
    "duration": 30,
    "start_time": "2022-12-08T15:47:51.214Z"
   },
   {
    "duration": 7,
    "start_time": "2022-12-08T15:49:33.462Z"
   },
   {
    "duration": 211,
    "start_time": "2022-12-08T15:49:37.864Z"
   },
   {
    "duration": 6,
    "start_time": "2022-12-08T15:49:45.799Z"
   },
   {
    "duration": 11,
    "start_time": "2022-12-08T15:50:04.704Z"
   },
   {
    "duration": 182,
    "start_time": "2022-12-08T15:50:07.271Z"
   },
   {
    "duration": 1142,
    "start_time": "2022-12-08T15:50:10.471Z"
   },
   {
    "duration": 165,
    "start_time": "2022-12-08T15:50:18.682Z"
   },
   {
    "duration": 6,
    "start_time": "2022-12-08T15:50:20.761Z"
   },
   {
    "duration": 166,
    "start_time": "2022-12-08T15:51:06.365Z"
   },
   {
    "duration": 7,
    "start_time": "2022-12-08T15:51:08.145Z"
   },
   {
    "duration": 165,
    "start_time": "2022-12-08T15:51:27.065Z"
   },
   {
    "duration": 5,
    "start_time": "2022-12-08T15:51:27.721Z"
   },
   {
    "duration": 153,
    "start_time": "2022-12-08T15:51:54.561Z"
   },
   {
    "duration": 7,
    "start_time": "2022-12-08T15:51:58.059Z"
   },
   {
    "duration": 133,
    "start_time": "2022-12-08T15:53:52.192Z"
   },
   {
    "duration": 230,
    "start_time": "2022-12-08T15:53:59.492Z"
   },
   {
    "duration": 1742,
    "start_time": "2022-12-08T15:54:08.890Z"
   },
   {
    "duration": 124,
    "start_time": "2022-12-08T15:54:17.949Z"
   },
   {
    "duration": 109,
    "start_time": "2022-12-08T15:54:22.798Z"
   },
   {
    "duration": 121,
    "start_time": "2022-12-08T15:54:29.595Z"
   },
   {
    "duration": 109,
    "start_time": "2022-12-08T15:54:31.870Z"
   },
   {
    "duration": 138,
    "start_time": "2022-12-08T15:54:48.873Z"
   },
   {
    "duration": 11,
    "start_time": "2022-12-08T15:55:44.680Z"
   },
   {
    "duration": 125,
    "start_time": "2022-12-08T15:55:48.391Z"
   },
   {
    "duration": 11,
    "start_time": "2022-12-08T15:56:14.887Z"
   },
   {
    "duration": 12,
    "start_time": "2022-12-08T15:56:59.604Z"
   },
   {
    "duration": 14,
    "start_time": "2022-12-08T15:57:09.967Z"
   },
   {
    "duration": 16,
    "start_time": "2022-12-08T15:57:13.650Z"
   },
   {
    "duration": 15,
    "start_time": "2022-12-08T15:57:25.916Z"
   },
   {
    "duration": 32,
    "start_time": "2022-12-08T15:57:48.015Z"
   },
   {
    "duration": 9,
    "start_time": "2022-12-08T15:58:09.955Z"
   },
   {
    "duration": 184,
    "start_time": "2022-12-08T15:58:31.034Z"
   },
   {
    "duration": 155,
    "start_time": "2022-12-08T15:58:45.069Z"
   },
   {
    "duration": 195,
    "start_time": "2022-12-08T16:00:03.010Z"
   },
   {
    "duration": 175,
    "start_time": "2022-12-08T16:00:31.646Z"
   },
   {
    "duration": 177,
    "start_time": "2022-12-08T16:00:41.988Z"
   },
   {
    "duration": 186,
    "start_time": "2022-12-08T16:01:09.853Z"
   },
   {
    "duration": 178,
    "start_time": "2022-12-08T16:01:16.082Z"
   },
   {
    "duration": 160,
    "start_time": "2022-12-08T16:01:44.592Z"
   },
   {
    "duration": 191,
    "start_time": "2022-12-08T16:01:49.973Z"
   },
   {
    "duration": 163,
    "start_time": "2022-12-08T16:02:27.004Z"
   },
   {
    "duration": 202,
    "start_time": "2022-12-08T16:02:52.570Z"
   },
   {
    "duration": 173,
    "start_time": "2022-12-08T16:02:59.377Z"
   },
   {
    "duration": 177,
    "start_time": "2022-12-08T16:03:20.248Z"
   },
   {
    "duration": 194,
    "start_time": "2022-12-08T16:03:58.097Z"
   },
   {
    "duration": 277,
    "start_time": "2022-12-08T16:04:13.165Z"
   },
   {
    "duration": 48,
    "start_time": "2022-12-08T16:04:56.863Z"
   },
   {
    "duration": 558,
    "start_time": "2022-12-08T16:05:01.126Z"
   },
   {
    "duration": 30,
    "start_time": "2022-12-08T16:05:01.686Z"
   },
   {
    "duration": 824,
    "start_time": "2022-12-08T16:05:01.723Z"
   },
   {
    "duration": 29,
    "start_time": "2022-12-08T16:05:02.551Z"
   },
   {
    "duration": 43,
    "start_time": "2022-12-08T16:05:02.582Z"
   },
   {
    "duration": 51,
    "start_time": "2022-12-08T16:05:02.627Z"
   },
   {
    "duration": 73,
    "start_time": "2022-12-08T16:05:02.681Z"
   },
   {
    "duration": 12,
    "start_time": "2022-12-08T16:05:02.756Z"
   },
   {
    "duration": 32,
    "start_time": "2022-12-08T16:05:02.772Z"
   },
   {
    "duration": 124,
    "start_time": "2022-12-08T16:05:02.806Z"
   },
   {
    "duration": 11,
    "start_time": "2022-12-08T16:05:02.932Z"
   },
   {
    "duration": 38,
    "start_time": "2022-12-08T16:05:02.945Z"
   },
   {
    "duration": 49,
    "start_time": "2022-12-08T16:05:02.985Z"
   },
   {
    "duration": 38,
    "start_time": "2022-12-08T16:05:03.042Z"
   },
   {
    "duration": 57,
    "start_time": "2022-12-08T16:05:03.082Z"
   },
   {
    "duration": 34,
    "start_time": "2022-12-08T16:05:03.143Z"
   },
   {
    "duration": 182,
    "start_time": "2022-12-08T16:05:03.180Z"
   },
   {
    "duration": 205,
    "start_time": "2022-12-08T16:05:03.365Z"
   },
   {
    "duration": 256,
    "start_time": "2022-12-08T16:05:03.572Z"
   },
   {
    "duration": 211,
    "start_time": "2022-12-08T16:05:03.830Z"
   },
   {
    "duration": 285,
    "start_time": "2022-12-08T16:05:04.044Z"
   },
   {
    "duration": 1484,
    "start_time": "2022-12-08T16:05:29.288Z"
   },
   {
    "duration": 233,
    "start_time": "2022-12-08T16:07:03.329Z"
   },
   {
    "duration": 51,
    "start_time": "2022-12-08T16:07:14.325Z"
   },
   {
    "duration": 217,
    "start_time": "2022-12-08T16:07:31.881Z"
   },
   {
    "duration": 16,
    "start_time": "2022-12-08T16:09:00.182Z"
   },
   {
    "duration": 17,
    "start_time": "2022-12-08T16:09:49.399Z"
   },
   {
    "duration": 298,
    "start_time": "2022-12-08T16:09:55.141Z"
   },
   {
    "duration": 9,
    "start_time": "2022-12-08T16:11:02.773Z"
   },
   {
    "duration": 41,
    "start_time": "2022-12-08T16:11:07.517Z"
   },
   {
    "duration": 9,
    "start_time": "2022-12-08T16:11:51.120Z"
   },
   {
    "duration": 41,
    "start_time": "2022-12-08T16:11:58.077Z"
   },
   {
    "duration": 109,
    "start_time": "2022-12-08T16:12:49.982Z"
   },
   {
    "duration": 24,
    "start_time": "2022-12-08T16:12:50.093Z"
   },
   {
    "duration": 446,
    "start_time": "2022-12-08T16:12:50.119Z"
   },
   {
    "duration": 23,
    "start_time": "2022-12-08T16:12:50.567Z"
   },
   {
    "duration": 11,
    "start_time": "2022-12-08T16:12:50.593Z"
   },
   {
    "duration": 45,
    "start_time": "2022-12-08T16:12:50.606Z"
   },
   {
    "duration": 12,
    "start_time": "2022-12-08T16:12:50.653Z"
   },
   {
    "duration": 18,
    "start_time": "2022-12-08T16:12:50.667Z"
   },
   {
    "duration": 32,
    "start_time": "2022-12-08T16:12:50.687Z"
   },
   {
    "duration": 234,
    "start_time": "2022-12-08T16:12:50.722Z"
   },
   {
    "duration": 8,
    "start_time": "2022-12-08T16:12:50.957Z"
   },
   {
    "duration": 8,
    "start_time": "2022-12-08T16:12:50.966Z"
   },
   {
    "duration": 15,
    "start_time": "2022-12-08T16:12:50.975Z"
   },
   {
    "duration": 4,
    "start_time": "2022-12-08T16:12:50.993Z"
   },
   {
    "duration": 20,
    "start_time": "2022-12-08T16:12:50.999Z"
   },
   {
    "duration": 11,
    "start_time": "2022-12-08T16:12:51.034Z"
   },
   {
    "duration": 166,
    "start_time": "2022-12-08T16:12:51.046Z"
   },
   {
    "duration": 159,
    "start_time": "2022-12-08T16:12:51.214Z"
   },
   {
    "duration": 212,
    "start_time": "2022-12-08T16:12:51.375Z"
   },
   {
    "duration": 195,
    "start_time": "2022-12-08T16:12:51.590Z"
   },
   {
    "duration": 237,
    "start_time": "2022-12-08T16:12:51.787Z"
   },
   {
    "duration": 35,
    "start_time": "2022-12-08T16:12:52.026Z"
   },
   {
    "duration": 0,
    "start_time": "2022-12-08T16:12:52.063Z"
   },
   {
    "duration": 16,
    "start_time": "2022-12-08T16:13:15.714Z"
   },
   {
    "duration": 56,
    "start_time": "2022-12-08T16:13:21.229Z"
   },
   {
    "duration": 18,
    "start_time": "2022-12-08T16:13:51.561Z"
   },
   {
    "duration": 10,
    "start_time": "2022-12-08T16:14:03.234Z"
   },
   {
    "duration": 38,
    "start_time": "2022-12-08T16:14:09.156Z"
   },
   {
    "duration": 16,
    "start_time": "2022-12-08T16:14:12.101Z"
   },
   {
    "duration": 7,
    "start_time": "2022-12-08T16:15:14.285Z"
   },
   {
    "duration": 108,
    "start_time": "2022-12-08T16:15:19.229Z"
   },
   {
    "duration": 26,
    "start_time": "2022-12-08T16:15:19.339Z"
   },
   {
    "duration": 493,
    "start_time": "2022-12-08T16:15:19.366Z"
   },
   {
    "duration": 23,
    "start_time": "2022-12-08T16:15:19.861Z"
   },
   {
    "duration": 13,
    "start_time": "2022-12-08T16:15:19.886Z"
   },
   {
    "duration": 41,
    "start_time": "2022-12-08T16:15:19.901Z"
   },
   {
    "duration": 12,
    "start_time": "2022-12-08T16:15:19.944Z"
   },
   {
    "duration": 7,
    "start_time": "2022-12-08T16:15:19.958Z"
   },
   {
    "duration": 38,
    "start_time": "2022-12-08T16:15:19.966Z"
   },
   {
    "duration": 139,
    "start_time": "2022-12-08T16:15:20.006Z"
   },
   {
    "duration": 10,
    "start_time": "2022-12-08T16:15:20.147Z"
   },
   {
    "duration": 29,
    "start_time": "2022-12-08T16:15:20.158Z"
   },
   {
    "duration": 23,
    "start_time": "2022-12-08T16:15:20.188Z"
   },
   {
    "duration": 4,
    "start_time": "2022-12-08T16:15:20.214Z"
   },
   {
    "duration": 22,
    "start_time": "2022-12-08T16:15:20.220Z"
   },
   {
    "duration": 10,
    "start_time": "2022-12-08T16:15:20.244Z"
   },
   {
    "duration": 179,
    "start_time": "2022-12-08T16:15:20.256Z"
   },
   {
    "duration": 173,
    "start_time": "2022-12-08T16:15:20.436Z"
   },
   {
    "duration": 189,
    "start_time": "2022-12-08T16:15:20.612Z"
   },
   {
    "duration": 204,
    "start_time": "2022-12-08T16:15:20.803Z"
   },
   {
    "duration": 231,
    "start_time": "2022-12-08T16:15:21.010Z"
   },
   {
    "duration": 21,
    "start_time": "2022-12-08T16:15:21.243Z"
   },
   {
    "duration": 0,
    "start_time": "2022-12-08T16:15:21.266Z"
   },
   {
    "duration": 40,
    "start_time": "2022-12-08T16:15:26.511Z"
   },
   {
    "duration": 20,
    "start_time": "2022-12-08T16:16:42.372Z"
   },
   {
    "duration": 47,
    "start_time": "2022-12-08T16:17:03.583Z"
   },
   {
    "duration": 11,
    "start_time": "2022-12-08T16:17:06.023Z"
   },
   {
    "duration": 46,
    "start_time": "2022-12-08T16:17:42.397Z"
   },
   {
    "duration": 18,
    "start_time": "2022-12-08T16:17:48.831Z"
   },
   {
    "duration": 10,
    "start_time": "2022-12-08T16:18:49.251Z"
   },
   {
    "duration": 17,
    "start_time": "2022-12-08T16:18:58.685Z"
   },
   {
    "duration": 119,
    "start_time": "2022-12-08T16:19:07.686Z"
   },
   {
    "duration": 39,
    "start_time": "2022-12-08T16:19:07.807Z"
   },
   {
    "duration": 673,
    "start_time": "2022-12-08T16:19:07.848Z"
   },
   {
    "duration": 31,
    "start_time": "2022-12-08T16:19:08.523Z"
   },
   {
    "duration": 25,
    "start_time": "2022-12-08T16:19:08.556Z"
   },
   {
    "duration": 35,
    "start_time": "2022-12-08T16:19:08.583Z"
   },
   {
    "duration": 267,
    "start_time": "2022-12-08T16:19:08.620Z"
   },
   {
    "duration": 0,
    "start_time": "2022-12-08T16:19:08.889Z"
   },
   {
    "duration": 0,
    "start_time": "2022-12-08T16:19:08.890Z"
   },
   {
    "duration": 0,
    "start_time": "2022-12-08T16:19:08.892Z"
   },
   {
    "duration": 0,
    "start_time": "2022-12-08T16:19:08.893Z"
   },
   {
    "duration": 0,
    "start_time": "2022-12-08T16:19:08.894Z"
   },
   {
    "duration": 0,
    "start_time": "2022-12-08T16:19:08.896Z"
   },
   {
    "duration": 0,
    "start_time": "2022-12-08T16:19:08.898Z"
   },
   {
    "duration": 0,
    "start_time": "2022-12-08T16:19:08.899Z"
   },
   {
    "duration": 0,
    "start_time": "2022-12-08T16:19:08.901Z"
   },
   {
    "duration": 0,
    "start_time": "2022-12-08T16:19:08.902Z"
   },
   {
    "duration": 0,
    "start_time": "2022-12-08T16:19:08.903Z"
   },
   {
    "duration": 0,
    "start_time": "2022-12-08T16:19:08.904Z"
   },
   {
    "duration": 0,
    "start_time": "2022-12-08T16:19:08.905Z"
   },
   {
    "duration": 0,
    "start_time": "2022-12-08T16:19:08.907Z"
   },
   {
    "duration": 0,
    "start_time": "2022-12-08T16:19:08.908Z"
   },
   {
    "duration": 0,
    "start_time": "2022-12-08T16:19:08.910Z"
   },
   {
    "duration": 106,
    "start_time": "2022-12-08T16:19:11.022Z"
   },
   {
    "duration": 26,
    "start_time": "2022-12-08T16:19:11.129Z"
   },
   {
    "duration": 480,
    "start_time": "2022-12-08T16:19:11.157Z"
   },
   {
    "duration": 37,
    "start_time": "2022-12-08T16:19:11.640Z"
   },
   {
    "duration": 26,
    "start_time": "2022-12-08T16:19:11.680Z"
   },
   {
    "duration": 60,
    "start_time": "2022-12-08T16:19:11.709Z"
   },
   {
    "duration": 188,
    "start_time": "2022-12-08T16:19:11.772Z"
   },
   {
    "duration": 0,
    "start_time": "2022-12-08T16:19:11.962Z"
   },
   {
    "duration": 0,
    "start_time": "2022-12-08T16:19:11.963Z"
   },
   {
    "duration": 0,
    "start_time": "2022-12-08T16:19:11.964Z"
   },
   {
    "duration": 0,
    "start_time": "2022-12-08T16:19:11.965Z"
   },
   {
    "duration": 0,
    "start_time": "2022-12-08T16:19:11.966Z"
   },
   {
    "duration": 0,
    "start_time": "2022-12-08T16:19:11.967Z"
   },
   {
    "duration": 0,
    "start_time": "2022-12-08T16:19:11.968Z"
   },
   {
    "duration": 0,
    "start_time": "2022-12-08T16:19:11.969Z"
   },
   {
    "duration": 0,
    "start_time": "2022-12-08T16:19:11.970Z"
   },
   {
    "duration": 0,
    "start_time": "2022-12-08T16:19:11.971Z"
   },
   {
    "duration": 0,
    "start_time": "2022-12-08T16:19:11.972Z"
   },
   {
    "duration": 0,
    "start_time": "2022-12-08T16:19:11.975Z"
   },
   {
    "duration": 0,
    "start_time": "2022-12-08T16:19:11.976Z"
   },
   {
    "duration": 0,
    "start_time": "2022-12-08T16:19:11.977Z"
   },
   {
    "duration": 0,
    "start_time": "2022-12-08T16:19:11.978Z"
   },
   {
    "duration": 0,
    "start_time": "2022-12-08T16:19:11.979Z"
   },
   {
    "duration": 11,
    "start_time": "2022-12-08T16:19:38.096Z"
   },
   {
    "duration": 17,
    "start_time": "2022-12-08T16:20:30.793Z"
   },
   {
    "duration": 100,
    "start_time": "2022-12-08T16:20:38.075Z"
   },
   {
    "duration": 12,
    "start_time": "2022-12-08T16:21:07.180Z"
   },
   {
    "duration": 22,
    "start_time": "2022-12-08T16:21:20.185Z"
   },
   {
    "duration": 107,
    "start_time": "2022-12-08T16:21:31.384Z"
   },
   {
    "duration": 6,
    "start_time": "2022-12-08T16:21:37.914Z"
   },
   {
    "duration": 13,
    "start_time": "2022-12-08T16:22:02.770Z"
   },
   {
    "duration": 110,
    "start_time": "2022-12-08T16:22:09.364Z"
   },
   {
    "duration": 5,
    "start_time": "2022-12-08T16:22:20.939Z"
   },
   {
    "duration": 6,
    "start_time": "2022-12-08T16:22:39.957Z"
   },
   {
    "duration": 6,
    "start_time": "2022-12-08T16:23:03.315Z"
   },
   {
    "duration": 7,
    "start_time": "2022-12-08T16:24:48.084Z"
   },
   {
    "duration": 8,
    "start_time": "2022-12-08T16:24:53.705Z"
   },
   {
    "duration": 112,
    "start_time": "2022-12-08T16:25:11.901Z"
   },
   {
    "duration": 40,
    "start_time": "2022-12-08T16:25:12.016Z"
   },
   {
    "duration": 555,
    "start_time": "2022-12-08T16:25:12.057Z"
   },
   {
    "duration": 31,
    "start_time": "2022-12-08T16:25:12.615Z"
   },
   {
    "duration": 33,
    "start_time": "2022-12-08T16:25:12.649Z"
   },
   {
    "duration": 56,
    "start_time": "2022-12-08T16:25:12.683Z"
   },
   {
    "duration": 5,
    "start_time": "2022-12-08T16:25:12.742Z"
   },
   {
    "duration": 20,
    "start_time": "2022-12-08T16:25:12.749Z"
   },
   {
    "duration": 35,
    "start_time": "2022-12-08T16:25:12.771Z"
   },
   {
    "duration": 115,
    "start_time": "2022-12-08T16:25:12.808Z"
   },
   {
    "duration": 14,
    "start_time": "2022-12-08T16:25:12.925Z"
   },
   {
    "duration": 4,
    "start_time": "2022-12-08T16:25:12.941Z"
   },
   {
    "duration": 19,
    "start_time": "2022-12-08T16:25:12.947Z"
   },
   {
    "duration": 12,
    "start_time": "2022-12-08T16:25:12.969Z"
   },
   {
    "duration": 15,
    "start_time": "2022-12-08T16:25:12.984Z"
   },
   {
    "duration": 11,
    "start_time": "2022-12-08T16:25:13.002Z"
   },
   {
    "duration": 162,
    "start_time": "2022-12-08T16:25:13.016Z"
   },
   {
    "duration": 203,
    "start_time": "2022-12-08T16:25:13.179Z"
   },
   {
    "duration": 186,
    "start_time": "2022-12-08T16:25:13.385Z"
   },
   {
    "duration": 228,
    "start_time": "2022-12-08T16:25:13.573Z"
   },
   {
    "duration": 201,
    "start_time": "2022-12-08T16:25:13.803Z"
   },
   {
    "duration": 302,
    "start_time": "2022-12-08T16:25:14.006Z"
   },
   {
    "duration": 14,
    "start_time": "2022-12-08T16:25:14.310Z"
   },
   {
    "duration": 152,
    "start_time": "2022-12-08T16:25:26.846Z"
   },
   {
    "duration": 122,
    "start_time": "2022-12-08T16:25:30.008Z"
   },
   {
    "duration": 196,
    "start_time": "2022-12-08T16:25:33.066Z"
   },
   {
    "duration": 15,
    "start_time": "2022-12-08T16:27:06.327Z"
   },
   {
    "duration": 309,
    "start_time": "2022-12-08T16:27:16.797Z"
   },
   {
    "duration": 123,
    "start_time": "2022-12-08T16:28:35.043Z"
   },
   {
    "duration": 17,
    "start_time": "2022-12-08T16:30:02.033Z"
   },
   {
    "duration": 9,
    "start_time": "2022-12-08T16:30:09.013Z"
   },
   {
    "duration": 134,
    "start_time": "2022-12-08T16:30:33.610Z"
   },
   {
    "duration": 15,
    "start_time": "2022-12-08T16:33:14.001Z"
   },
   {
    "duration": 17,
    "start_time": "2022-12-08T16:33:41.891Z"
   },
   {
    "duration": 8,
    "start_time": "2022-12-08T16:33:57.002Z"
   },
   {
    "duration": 4,
    "start_time": "2022-12-08T16:34:09.595Z"
   },
   {
    "duration": 4,
    "start_time": "2022-12-08T16:34:17.398Z"
   },
   {
    "duration": 129,
    "start_time": "2022-12-08T16:34:28.389Z"
   },
   {
    "duration": 35,
    "start_time": "2022-12-08T16:34:28.520Z"
   },
   {
    "duration": 498,
    "start_time": "2022-12-08T16:34:28.556Z"
   },
   {
    "duration": 22,
    "start_time": "2022-12-08T16:34:29.056Z"
   },
   {
    "duration": 24,
    "start_time": "2022-12-08T16:34:29.080Z"
   },
   {
    "duration": 44,
    "start_time": "2022-12-08T16:34:29.106Z"
   },
   {
    "duration": 9,
    "start_time": "2022-12-08T16:34:29.152Z"
   },
   {
    "duration": 24,
    "start_time": "2022-12-08T16:34:29.163Z"
   },
   {
    "duration": 46,
    "start_time": "2022-12-08T16:34:29.189Z"
   },
   {
    "duration": 117,
    "start_time": "2022-12-08T16:34:29.237Z"
   },
   {
    "duration": 10,
    "start_time": "2022-12-08T16:34:29.356Z"
   },
   {
    "duration": 16,
    "start_time": "2022-12-08T16:34:29.368Z"
   },
   {
    "duration": 22,
    "start_time": "2022-12-08T16:34:29.386Z"
   },
   {
    "duration": 14,
    "start_time": "2022-12-08T16:34:29.411Z"
   },
   {
    "duration": 41,
    "start_time": "2022-12-08T16:34:29.427Z"
   },
   {
    "duration": 19,
    "start_time": "2022-12-08T16:34:29.470Z"
   },
   {
    "duration": 151,
    "start_time": "2022-12-08T16:34:29.491Z"
   },
   {
    "duration": 187,
    "start_time": "2022-12-08T16:34:29.644Z"
   },
   {
    "duration": 182,
    "start_time": "2022-12-08T16:34:29.835Z"
   },
   {
    "duration": 188,
    "start_time": "2022-12-08T16:34:30.019Z"
   },
   {
    "duration": 215,
    "start_time": "2022-12-08T16:34:30.209Z"
   },
   {
    "duration": 173,
    "start_time": "2022-12-08T16:34:30.425Z"
   },
   {
    "duration": 162,
    "start_time": "2022-12-08T16:34:30.600Z"
   },
   {
    "duration": 176,
    "start_time": "2022-12-08T16:34:30.764Z"
   },
   {
    "duration": 4,
    "start_time": "2022-12-08T16:34:30.942Z"
   },
   {
    "duration": 39,
    "start_time": "2022-12-08T16:34:30.949Z"
   },
   {
    "duration": 51,
    "start_time": "2022-12-08T16:36:18.986Z"
   },
   {
    "duration": 15,
    "start_time": "2022-12-08T16:36:23.194Z"
   },
   {
    "duration": 3,
    "start_time": "2022-12-08T16:36:58.080Z"
   },
   {
    "duration": 4,
    "start_time": "2022-12-08T16:37:04.778Z"
   },
   {
    "duration": 4,
    "start_time": "2022-12-08T16:37:26.749Z"
   },
   {
    "duration": 16,
    "start_time": "2022-12-08T16:37:37.611Z"
   },
   {
    "duration": 178,
    "start_time": "2022-12-08T16:38:22.249Z"
   },
   {
    "duration": 23,
    "start_time": "2022-12-08T16:39:41.012Z"
   },
   {
    "duration": 15,
    "start_time": "2022-12-08T16:39:57.909Z"
   },
   {
    "duration": 11,
    "start_time": "2022-12-08T16:40:21.500Z"
   },
   {
    "duration": 12,
    "start_time": "2022-12-08T16:40:29.118Z"
   },
   {
    "duration": 132,
    "start_time": "2022-12-08T16:40:54.736Z"
   },
   {
    "duration": 16,
    "start_time": "2022-12-08T16:41:06.308Z"
   },
   {
    "duration": 7,
    "start_time": "2022-12-08T16:42:35.083Z"
   },
   {
    "duration": 171,
    "start_time": "2022-12-08T16:44:02.305Z"
   },
   {
    "duration": 153,
    "start_time": "2022-12-08T16:45:13.104Z"
   },
   {
    "duration": 180,
    "start_time": "2022-12-08T16:47:15.263Z"
   },
   {
    "duration": 205,
    "start_time": "2022-12-08T16:47:25.697Z"
   },
   {
    "duration": 179,
    "start_time": "2022-12-08T16:48:05.687Z"
   },
   {
    "duration": 170,
    "start_time": "2022-12-08T16:48:08.505Z"
   },
   {
    "duration": 172,
    "start_time": "2022-12-08T16:50:23.512Z"
   },
   {
    "duration": 732,
    "start_time": "2022-12-08T16:51:49.885Z"
   },
   {
    "duration": 161,
    "start_time": "2022-12-08T16:51:57.137Z"
   },
   {
    "duration": 723,
    "start_time": "2022-12-08T16:53:08.215Z"
   },
   {
    "duration": 704,
    "start_time": "2022-12-08T16:53:17.227Z"
   },
   {
    "duration": 14,
    "start_time": "2022-12-08T16:53:22.104Z"
   },
   {
    "duration": 195,
    "start_time": "2022-12-08T16:53:32.828Z"
   },
   {
    "duration": 137,
    "start_time": "2022-12-08T16:53:41.236Z"
   },
   {
    "duration": 343,
    "start_time": "2022-12-08T16:53:48.616Z"
   },
   {
    "duration": 153,
    "start_time": "2022-12-08T16:53:52.040Z"
   },
   {
    "duration": 235,
    "start_time": "2022-12-08T16:54:02.844Z"
   },
   {
    "duration": 116,
    "start_time": "2022-12-08T16:54:06.128Z"
   },
   {
    "duration": 148,
    "start_time": "2022-12-08T16:54:11.768Z"
   },
   {
    "duration": 139,
    "start_time": "2022-12-08T16:54:16.374Z"
   },
   {
    "duration": 52,
    "start_time": "2022-12-08T16:54:43.573Z"
   },
   {
    "duration": 157,
    "start_time": "2022-12-08T16:54:46.494Z"
   },
   {
    "duration": 49,
    "start_time": "2022-12-08T16:54:59.241Z"
   },
   {
    "duration": 63,
    "start_time": "2022-12-08T16:55:03.403Z"
   },
   {
    "duration": 146,
    "start_time": "2022-12-08T16:55:06.370Z"
   },
   {
    "duration": 158,
    "start_time": "2022-12-08T16:56:02.765Z"
   },
   {
    "duration": 157,
    "start_time": "2022-12-08T16:56:07.606Z"
   },
   {
    "duration": 143,
    "start_time": "2022-12-08T16:56:15.411Z"
   },
   {
    "duration": 126,
    "start_time": "2022-12-08T16:56:55.729Z"
   },
   {
    "duration": 1978,
    "start_time": "2022-12-08T16:58:00.299Z"
   },
   {
    "duration": 2082,
    "start_time": "2022-12-08T16:58:12.009Z"
   },
   {
    "duration": 776,
    "start_time": "2022-12-08T16:59:02.361Z"
   },
   {
    "duration": 3566,
    "start_time": "2022-12-08T16:59:12.170Z"
   },
   {
    "duration": 1015,
    "start_time": "2022-12-08T16:59:23.057Z"
   },
   {
    "duration": 879,
    "start_time": "2022-12-08T16:59:28.043Z"
   },
   {
    "duration": 2337,
    "start_time": "2022-12-08T17:00:52.408Z"
   },
   {
    "duration": 1654,
    "start_time": "2022-12-08T17:01:08.671Z"
   },
   {
    "duration": 242,
    "start_time": "2022-12-08T17:25:50.266Z"
   },
   {
    "duration": 154,
    "start_time": "2022-12-08T17:25:58.838Z"
   },
   {
    "duration": 146,
    "start_time": "2022-12-08T17:26:39.869Z"
   },
   {
    "duration": 160,
    "start_time": "2022-12-08T17:28:07.613Z"
   },
   {
    "duration": 176,
    "start_time": "2022-12-08T17:33:02.838Z"
   },
   {
    "duration": 173,
    "start_time": "2022-12-08T17:34:25.413Z"
   },
   {
    "duration": 204,
    "start_time": "2022-12-08T17:35:29.802Z"
   },
   {
    "duration": 17,
    "start_time": "2022-12-08T17:36:36.008Z"
   },
   {
    "duration": 16,
    "start_time": "2022-12-08T17:37:20.004Z"
   },
   {
    "duration": 8,
    "start_time": "2022-12-08T17:37:33.107Z"
   },
   {
    "duration": 10,
    "start_time": "2022-12-08T17:38:10.889Z"
   },
   {
    "duration": 10,
    "start_time": "2022-12-08T17:38:22.999Z"
   },
   {
    "duration": 15,
    "start_time": "2022-12-08T17:38:35.938Z"
   },
   {
    "duration": 183,
    "start_time": "2022-12-08T17:39:24.247Z"
   },
   {
    "duration": 192,
    "start_time": "2022-12-08T17:39:56.098Z"
   },
   {
    "duration": 131,
    "start_time": "2022-12-08T17:40:20.812Z"
   },
   {
    "duration": 200,
    "start_time": "2022-12-08T17:40:46.174Z"
   },
   {
    "duration": 192,
    "start_time": "2022-12-08T17:41:57.855Z"
   },
   {
    "duration": 24,
    "start_time": "2022-12-08T17:43:37.888Z"
   },
   {
    "duration": 37,
    "start_time": "2022-12-08T17:43:56.118Z"
   },
   {
    "duration": 9,
    "start_time": "2022-12-08T17:43:59.251Z"
   },
   {
    "duration": 177,
    "start_time": "2022-12-08T17:44:07.005Z"
   },
   {
    "duration": 168,
    "start_time": "2022-12-08T17:44:27.215Z"
   },
   {
    "duration": 182,
    "start_time": "2022-12-08T17:44:43.357Z"
   },
   {
    "duration": 508,
    "start_time": "2022-12-08T17:45:21.649Z"
   },
   {
    "duration": 521,
    "start_time": "2022-12-08T17:45:35.068Z"
   },
   {
    "duration": 221,
    "start_time": "2022-12-08T17:46:23.948Z"
   },
   {
    "duration": 686,
    "start_time": "2022-12-08T17:47:26.279Z"
   },
   {
    "duration": 11,
    "start_time": "2022-12-08T17:50:14.436Z"
   },
   {
    "duration": 15,
    "start_time": "2022-12-08T17:50:20.057Z"
   },
   {
    "duration": 15,
    "start_time": "2022-12-08T17:50:29.752Z"
   },
   {
    "duration": 16,
    "start_time": "2022-12-08T17:50:43.922Z"
   },
   {
    "duration": 15,
    "start_time": "2022-12-08T17:51:23.788Z"
   },
   {
    "duration": 15,
    "start_time": "2022-12-08T17:51:32.740Z"
   },
   {
    "duration": 18,
    "start_time": "2022-12-08T17:53:35.241Z"
   },
   {
    "duration": 225,
    "start_time": "2022-12-08T17:53:50.653Z"
   },
   {
    "duration": 183,
    "start_time": "2022-12-08T17:53:57.152Z"
   },
   {
    "duration": 345,
    "start_time": "2022-12-08T17:54:02.275Z"
   },
   {
    "duration": 242,
    "start_time": "2022-12-08T17:54:06.599Z"
   },
   {
    "duration": 165,
    "start_time": "2022-12-08T17:54:55.284Z"
   },
   {
    "duration": 144,
    "start_time": "2022-12-08T17:57:30.143Z"
   },
   {
    "duration": 142,
    "start_time": "2022-12-08T17:57:33.075Z"
   },
   {
    "duration": 181,
    "start_time": "2022-12-08T17:57:39.888Z"
   },
   {
    "duration": 165,
    "start_time": "2022-12-08T17:57:55.385Z"
   },
   {
    "duration": 196,
    "start_time": "2022-12-08T17:58:12.846Z"
   },
   {
    "duration": 166,
    "start_time": "2022-12-08T17:58:20.834Z"
   },
   {
    "duration": 149,
    "start_time": "2022-12-08T17:58:28.938Z"
   },
   {
    "duration": 204,
    "start_time": "2022-12-08T18:00:11.097Z"
   },
   {
    "duration": 198,
    "start_time": "2022-12-08T18:00:17.501Z"
   },
   {
    "duration": 53,
    "start_time": "2022-12-08T18:00:52.292Z"
   },
   {
    "duration": 188,
    "start_time": "2022-12-08T18:01:03.227Z"
   },
   {
    "duration": 201,
    "start_time": "2022-12-08T18:01:22.234Z"
   },
   {
    "duration": 144,
    "start_time": "2022-12-08T18:01:28.959Z"
   },
   {
    "duration": 281,
    "start_time": "2022-12-08T18:01:32.260Z"
   },
   {
    "duration": 266,
    "start_time": "2022-12-08T18:01:36.816Z"
   },
   {
    "duration": 252,
    "start_time": "2022-12-08T18:01:40.774Z"
   },
   {
    "duration": 265,
    "start_time": "2022-12-08T18:01:43.970Z"
   },
   {
    "duration": 292,
    "start_time": "2022-12-08T18:01:52.320Z"
   },
   {
    "duration": 247,
    "start_time": "2022-12-08T18:02:02.697Z"
   },
   {
    "duration": 208,
    "start_time": "2022-12-08T18:02:06.958Z"
   },
   {
    "duration": 239,
    "start_time": "2022-12-08T18:03:40.100Z"
   },
   {
    "duration": 186,
    "start_time": "2022-12-08T18:03:45.206Z"
   },
   {
    "duration": 196,
    "start_time": "2022-12-08T18:04:01.561Z"
   },
   {
    "duration": 177,
    "start_time": "2022-12-08T18:04:05.738Z"
   },
   {
    "duration": 174,
    "start_time": "2022-12-08T18:05:25.829Z"
   },
   {
    "duration": 55,
    "start_time": "2022-12-08T18:06:01.116Z"
   },
   {
    "duration": 216,
    "start_time": "2022-12-08T18:06:08.707Z"
   },
   {
    "duration": 207,
    "start_time": "2022-12-08T18:06:14.090Z"
   },
   {
    "duration": 236,
    "start_time": "2022-12-08T18:06:33.016Z"
   },
   {
    "duration": 179,
    "start_time": "2022-12-08T18:06:57.082Z"
   },
   {
    "duration": 191,
    "start_time": "2022-12-08T18:07:14.916Z"
   },
   {
    "duration": 212,
    "start_time": "2022-12-08T18:07:52.933Z"
   },
   {
    "duration": 199,
    "start_time": "2022-12-08T18:08:42.046Z"
   },
   {
    "duration": 131,
    "start_time": "2022-12-08T18:13:04.021Z"
   },
   {
    "duration": 154,
    "start_time": "2022-12-08T18:13:07.972Z"
   },
   {
    "duration": 266,
    "start_time": "2022-12-08T18:20:58.430Z"
   },
   {
    "duration": 294,
    "start_time": "2022-12-08T18:21:16.868Z"
   },
   {
    "duration": 290,
    "start_time": "2022-12-08T18:21:35.949Z"
   },
   {
    "duration": 939,
    "start_time": "2022-12-08T18:21:53.848Z"
   },
   {
    "duration": 196,
    "start_time": "2022-12-08T18:22:05.508Z"
   },
   {
    "duration": 106,
    "start_time": "2022-12-08T18:22:10.974Z"
   },
   {
    "duration": 93,
    "start_time": "2022-12-08T18:22:26.187Z"
   },
   {
    "duration": 95,
    "start_time": "2022-12-08T18:22:30.887Z"
   },
   {
    "duration": 105,
    "start_time": "2022-12-08T18:22:34.053Z"
   },
   {
    "duration": 206,
    "start_time": "2022-12-08T18:22:39.005Z"
   },
   {
    "duration": 4,
    "start_time": "2022-12-08T19:10:44.373Z"
   },
   {
    "duration": 26,
    "start_time": "2022-12-08T19:11:09.138Z"
   },
   {
    "duration": 27,
    "start_time": "2022-12-08T19:11:20.165Z"
   },
   {
    "duration": 23,
    "start_time": "2022-12-08T19:16:08.764Z"
   },
   {
    "duration": 8,
    "start_time": "2022-12-08T19:33:20.765Z"
   },
   {
    "duration": 15,
    "start_time": "2022-12-08T19:33:28.359Z"
   },
   {
    "duration": 17,
    "start_time": "2022-12-08T19:35:41.462Z"
   },
   {
    "duration": 16,
    "start_time": "2022-12-08T19:35:58.869Z"
   },
   {
    "duration": 6,
    "start_time": "2022-12-08T19:37:42.698Z"
   },
   {
    "duration": 8,
    "start_time": "2022-12-08T19:37:50.377Z"
   },
   {
    "duration": 4,
    "start_time": "2022-12-08T19:38:18.645Z"
   },
   {
    "duration": 5,
    "start_time": "2022-12-08T19:38:26.176Z"
   },
   {
    "duration": 17,
    "start_time": "2022-12-08T19:38:30.261Z"
   },
   {
    "duration": 18,
    "start_time": "2022-12-08T19:38:51.722Z"
   },
   {
    "duration": 12,
    "start_time": "2022-12-08T19:38:58.969Z"
   },
   {
    "duration": 11,
    "start_time": "2022-12-08T19:39:25.610Z"
   },
   {
    "duration": 20,
    "start_time": "2022-12-08T19:39:47.020Z"
   },
   {
    "duration": 20,
    "start_time": "2022-12-08T19:40:15.315Z"
   },
   {
    "duration": 10,
    "start_time": "2022-12-08T19:40:30.073Z"
   },
   {
    "duration": 10,
    "start_time": "2022-12-08T19:40:44.783Z"
   },
   {
    "duration": 14,
    "start_time": "2022-12-08T19:40:46.995Z"
   },
   {
    "duration": 12,
    "start_time": "2022-12-08T19:41:06.376Z"
   },
   {
    "duration": 24,
    "start_time": "2022-12-08T19:42:13.626Z"
   },
   {
    "duration": 11,
    "start_time": "2022-12-08T19:42:19.150Z"
   },
   {
    "duration": 14,
    "start_time": "2022-12-08T19:42:43.274Z"
   },
   {
    "duration": 14,
    "start_time": "2022-12-08T19:42:53.006Z"
   },
   {
    "duration": 7,
    "start_time": "2022-12-08T19:44:17.663Z"
   },
   {
    "duration": 20,
    "start_time": "2022-12-08T19:44:30.470Z"
   },
   {
    "duration": 29,
    "start_time": "2022-12-08T19:44:42.829Z"
   },
   {
    "duration": 16,
    "start_time": "2022-12-08T19:49:34.206Z"
   },
   {
    "duration": 16,
    "start_time": "2022-12-08T19:49:43.561Z"
   },
   {
    "duration": 11,
    "start_time": "2022-12-08T19:51:00.540Z"
   },
   {
    "duration": 13,
    "start_time": "2022-12-08T19:51:05.303Z"
   },
   {
    "duration": 41,
    "start_time": "2022-12-08T19:53:35.413Z"
   },
   {
    "duration": 40,
    "start_time": "2022-12-08T19:53:41.229Z"
   },
   {
    "duration": 17,
    "start_time": "2022-12-08T19:54:20.776Z"
   },
   {
    "duration": 17,
    "start_time": "2022-12-08T19:54:52.346Z"
   },
   {
    "duration": 180,
    "start_time": "2022-12-08T19:55:05.236Z"
   },
   {
    "duration": 693,
    "start_time": "2022-12-08T19:55:36.547Z"
   },
   {
    "duration": 24,
    "start_time": "2022-12-08T19:55:54.709Z"
   },
   {
    "duration": 25,
    "start_time": "2022-12-08T19:56:23.215Z"
   },
   {
    "duration": 227,
    "start_time": "2022-12-08T19:56:50.356Z"
   },
   {
    "duration": 16,
    "start_time": "2022-12-08T19:57:04.970Z"
   },
   {
    "duration": 18,
    "start_time": "2022-12-08T19:57:10.677Z"
   },
   {
    "duration": 19,
    "start_time": "2022-12-08T19:57:18.648Z"
   },
   {
    "duration": 278,
    "start_time": "2022-12-08T19:57:34.004Z"
   },
   {
    "duration": 153,
    "start_time": "2022-12-08T19:57:54.978Z"
   },
   {
    "duration": 151,
    "start_time": "2022-12-08T19:58:11.880Z"
   },
   {
    "duration": 186,
    "start_time": "2022-12-08T19:58:15.180Z"
   },
   {
    "duration": 651,
    "start_time": "2022-12-09T13:35:15.997Z"
   },
   {
    "duration": 26,
    "start_time": "2022-12-09T13:35:16.650Z"
   },
   {
    "duration": 1070,
    "start_time": "2022-12-09T13:35:16.678Z"
   },
   {
    "duration": 22,
    "start_time": "2022-12-09T13:35:17.751Z"
   },
   {
    "duration": 29,
    "start_time": "2022-12-09T13:35:17.774Z"
   },
   {
    "duration": 56,
    "start_time": "2022-12-09T13:35:17.805Z"
   },
   {
    "duration": 7,
    "start_time": "2022-12-09T13:35:17.863Z"
   },
   {
    "duration": 11,
    "start_time": "2022-12-09T13:35:17.872Z"
   },
   {
    "duration": 11,
    "start_time": "2022-12-09T13:35:17.884Z"
   },
   {
    "duration": 55,
    "start_time": "2022-12-09T13:35:17.898Z"
   },
   {
    "duration": 171,
    "start_time": "2022-12-09T13:35:17.955Z"
   },
   {
    "duration": 14,
    "start_time": "2022-12-09T13:35:18.127Z"
   },
   {
    "duration": 16,
    "start_time": "2022-12-09T13:35:18.143Z"
   },
   {
    "duration": 14,
    "start_time": "2022-12-09T13:35:18.161Z"
   },
   {
    "duration": 5,
    "start_time": "2022-12-09T13:35:18.177Z"
   },
   {
    "duration": 14,
    "start_time": "2022-12-09T13:35:18.184Z"
   },
   {
    "duration": 34,
    "start_time": "2022-12-09T13:35:18.201Z"
   },
   {
    "duration": 192,
    "start_time": "2022-12-09T13:35:18.236Z"
   },
   {
    "duration": 244,
    "start_time": "2022-12-09T13:35:18.432Z"
   },
   {
    "duration": 198,
    "start_time": "2022-12-09T13:35:18.678Z"
   },
   {
    "duration": 227,
    "start_time": "2022-12-09T13:35:18.879Z"
   },
   {
    "duration": 277,
    "start_time": "2022-12-09T13:35:19.109Z"
   },
   {
    "duration": 235,
    "start_time": "2022-12-09T13:35:19.388Z"
   },
   {
    "duration": 182,
    "start_time": "2022-12-09T13:35:19.626Z"
   },
   {
    "duration": 182,
    "start_time": "2022-12-09T13:35:19.809Z"
   },
   {
    "duration": 7,
    "start_time": "2022-12-09T13:35:19.992Z"
   },
   {
    "duration": 245,
    "start_time": "2022-12-09T13:35:20.002Z"
   },
   {
    "duration": 223,
    "start_time": "2022-12-09T13:35:20.252Z"
   },
   {
    "duration": 207,
    "start_time": "2022-12-09T13:35:20.477Z"
   },
   {
    "duration": 210,
    "start_time": "2022-12-09T13:35:20.686Z"
   },
   {
    "duration": 281,
    "start_time": "2022-12-09T13:35:20.898Z"
   },
   {
    "duration": 211,
    "start_time": "2022-12-09T13:35:21.181Z"
   },
   {
    "duration": 188,
    "start_time": "2022-12-09T13:35:21.396Z"
   },
   {
    "duration": 259,
    "start_time": "2022-12-09T13:35:21.587Z"
   },
   {
    "duration": 264,
    "start_time": "2022-12-09T13:35:21.848Z"
   },
   {
    "duration": 207,
    "start_time": "2022-12-09T13:35:22.114Z"
   },
   {
    "duration": 179,
    "start_time": "2022-12-09T13:35:22.323Z"
   },
   {
    "duration": 263,
    "start_time": "2022-12-09T13:35:22.504Z"
   },
   {
    "duration": 223,
    "start_time": "2022-12-09T13:35:22.769Z"
   },
   {
    "duration": 229,
    "start_time": "2022-12-09T13:35:22.993Z"
   },
   {
    "duration": 22,
    "start_time": "2022-12-09T13:35:23.225Z"
   },
   {
    "duration": 22,
    "start_time": "2022-12-09T13:35:23.249Z"
   },
   {
    "duration": 190,
    "start_time": "2022-12-09T13:35:23.273Z"
   },
   {
    "duration": 5,
    "start_time": "2022-12-09T13:35:32.571Z"
   },
   {
    "duration": 49,
    "start_time": "2022-12-09T13:57:35.714Z"
   },
   {
    "duration": 595,
    "start_time": "2022-12-09T13:57:50.081Z"
   },
   {
    "duration": 27,
    "start_time": "2022-12-09T13:57:50.857Z"
   },
   {
    "duration": 25,
    "start_time": "2022-12-09T13:57:54.314Z"
   },
   {
    "duration": 20,
    "start_time": "2022-12-09T13:57:56.042Z"
   },
   {
    "duration": 310,
    "start_time": "2022-12-09T13:58:55.675Z"
   },
   {
    "duration": 153,
    "start_time": "2022-12-09T13:59:10.783Z"
   },
   {
    "duration": 26,
    "start_time": "2022-12-09T13:59:10.938Z"
   },
   {
    "duration": 872,
    "start_time": "2022-12-09T13:59:10.966Z"
   },
   {
    "duration": 22,
    "start_time": "2022-12-09T13:59:11.841Z"
   },
   {
    "duration": 38,
    "start_time": "2022-12-09T13:59:11.865Z"
   },
   {
    "duration": 29,
    "start_time": "2022-12-09T13:59:11.906Z"
   },
   {
    "duration": 6,
    "start_time": "2022-12-09T13:59:11.937Z"
   },
   {
    "duration": 10,
    "start_time": "2022-12-09T13:59:11.944Z"
   },
   {
    "duration": 52,
    "start_time": "2022-12-09T13:59:11.955Z"
   },
   {
    "duration": 115,
    "start_time": "2022-12-09T13:59:12.010Z"
   },
   {
    "duration": 9,
    "start_time": "2022-12-09T13:59:12.126Z"
   },
   {
    "duration": 20,
    "start_time": "2022-12-09T13:59:12.137Z"
   },
   {
    "duration": 11,
    "start_time": "2022-12-09T13:59:12.159Z"
   },
   {
    "duration": 5,
    "start_time": "2022-12-09T13:59:12.172Z"
   },
   {
    "duration": 27,
    "start_time": "2022-12-09T13:59:12.179Z"
   },
   {
    "duration": 7,
    "start_time": "2022-12-09T13:59:12.208Z"
   },
   {
    "duration": 153,
    "start_time": "2022-12-09T13:59:12.217Z"
   },
   {
    "duration": 164,
    "start_time": "2022-12-09T13:59:12.372Z"
   },
   {
    "duration": 238,
    "start_time": "2022-12-09T13:59:12.537Z"
   },
   {
    "duration": 171,
    "start_time": "2022-12-09T13:59:12.776Z"
   },
   {
    "duration": 206,
    "start_time": "2022-12-09T13:59:12.949Z"
   },
   {
    "duration": 164,
    "start_time": "2022-12-09T13:59:13.157Z"
   },
   {
    "duration": 155,
    "start_time": "2022-12-09T13:59:13.323Z"
   },
   {
    "duration": 151,
    "start_time": "2022-12-09T13:59:13.479Z"
   },
   {
    "duration": 6,
    "start_time": "2022-12-09T13:59:13.632Z"
   },
   {
    "duration": 149,
    "start_time": "2022-12-09T13:59:13.639Z"
   },
   {
    "duration": 156,
    "start_time": "2022-12-09T13:59:13.790Z"
   },
   {
    "duration": 135,
    "start_time": "2022-12-09T13:59:13.949Z"
   },
   {
    "duration": 167,
    "start_time": "2022-12-09T13:59:14.086Z"
   },
   {
    "duration": 160,
    "start_time": "2022-12-09T13:59:14.255Z"
   },
   {
    "duration": 201,
    "start_time": "2022-12-09T13:59:14.417Z"
   },
   {
    "duration": 163,
    "start_time": "2022-12-09T13:59:14.620Z"
   },
   {
    "duration": 220,
    "start_time": "2022-12-09T13:59:14.785Z"
   },
   {
    "duration": 248,
    "start_time": "2022-12-09T13:59:15.007Z"
   },
   {
    "duration": 189,
    "start_time": "2022-12-09T13:59:15.257Z"
   },
   {
    "duration": 148,
    "start_time": "2022-12-09T13:59:15.448Z"
   },
   {
    "duration": 251,
    "start_time": "2022-12-09T13:59:15.598Z"
   },
   {
    "duration": 202,
    "start_time": "2022-12-09T13:59:15.851Z"
   },
   {
    "duration": 205,
    "start_time": "2022-12-09T13:59:16.055Z"
   },
   {
    "duration": 12,
    "start_time": "2022-12-09T13:59:16.262Z"
   },
   {
    "duration": 9,
    "start_time": "2022-12-09T13:59:16.276Z"
   },
   {
    "duration": 155,
    "start_time": "2022-12-09T13:59:16.304Z"
   },
   {
    "duration": 200,
    "start_time": "2022-12-09T14:14:41.445Z"
   },
   {
    "duration": 203,
    "start_time": "2022-12-09T14:17:38.044Z"
   },
   {
    "duration": 116,
    "start_time": "2022-12-09T14:19:36.152Z"
   },
   {
    "duration": 38,
    "start_time": "2022-12-09T14:19:36.270Z"
   },
   {
    "duration": 552,
    "start_time": "2022-12-09T14:19:36.310Z"
   },
   {
    "duration": 20,
    "start_time": "2022-12-09T14:19:36.864Z"
   },
   {
    "duration": 34,
    "start_time": "2022-12-09T14:19:36.886Z"
   },
   {
    "duration": 24,
    "start_time": "2022-12-09T14:19:36.922Z"
   },
   {
    "duration": 4,
    "start_time": "2022-12-09T14:19:36.947Z"
   },
   {
    "duration": 11,
    "start_time": "2022-12-09T14:19:36.953Z"
   },
   {
    "duration": 40,
    "start_time": "2022-12-09T14:19:36.966Z"
   },
   {
    "duration": 105,
    "start_time": "2022-12-09T14:19:37.008Z"
   },
   {
    "duration": 9,
    "start_time": "2022-12-09T14:19:37.115Z"
   },
   {
    "duration": 6,
    "start_time": "2022-12-09T14:19:37.126Z"
   },
   {
    "duration": 13,
    "start_time": "2022-12-09T14:19:37.134Z"
   },
   {
    "duration": 5,
    "start_time": "2022-12-09T14:19:37.150Z"
   },
   {
    "duration": 15,
    "start_time": "2022-12-09T14:19:37.156Z"
   },
   {
    "duration": 37,
    "start_time": "2022-12-09T14:19:37.173Z"
   },
   {
    "duration": 163,
    "start_time": "2022-12-09T14:19:37.211Z"
   },
   {
    "duration": 229,
    "start_time": "2022-12-09T14:19:37.376Z"
   },
   {
    "duration": 184,
    "start_time": "2022-12-09T14:19:37.606Z"
   },
   {
    "duration": 196,
    "start_time": "2022-12-09T14:19:37.791Z"
   },
   {
    "duration": 207,
    "start_time": "2022-12-09T14:19:37.989Z"
   },
   {
    "duration": 179,
    "start_time": "2022-12-09T14:19:38.197Z"
   },
   {
    "duration": 167,
    "start_time": "2022-12-09T14:19:38.378Z"
   },
   {
    "duration": 160,
    "start_time": "2022-12-09T14:19:38.547Z"
   },
   {
    "duration": 7,
    "start_time": "2022-12-09T14:19:38.708Z"
   },
   {
    "duration": 150,
    "start_time": "2022-12-09T14:19:38.717Z"
   },
   {
    "duration": 260,
    "start_time": "2022-12-09T14:19:38.869Z"
   },
   {
    "duration": 149,
    "start_time": "2022-12-09T14:19:39.131Z"
   },
   {
    "duration": 166,
    "start_time": "2022-12-09T14:19:39.281Z"
   },
   {
    "duration": 149,
    "start_time": "2022-12-09T14:19:39.448Z"
   },
   {
    "duration": 150,
    "start_time": "2022-12-09T14:19:39.604Z"
   },
   {
    "duration": 179,
    "start_time": "2022-12-09T14:19:39.756Z"
   },
   {
    "duration": 216,
    "start_time": "2022-12-09T14:19:39.936Z"
   },
   {
    "duration": 245,
    "start_time": "2022-12-09T14:19:40.154Z"
   },
   {
    "duration": 178,
    "start_time": "2022-12-09T14:19:40.404Z"
   },
   {
    "duration": 154,
    "start_time": "2022-12-09T14:19:40.584Z"
   },
   {
    "duration": 252,
    "start_time": "2022-12-09T14:19:40.741Z"
   },
   {
    "duration": 215,
    "start_time": "2022-12-09T14:19:40.995Z"
   },
   {
    "duration": 203,
    "start_time": "2022-12-09T14:19:41.211Z"
   },
   {
    "duration": 11,
    "start_time": "2022-12-09T14:19:41.415Z"
   },
   {
    "duration": 10,
    "start_time": "2022-12-09T14:19:41.430Z"
   },
   {
    "duration": 178,
    "start_time": "2022-12-09T14:19:41.442Z"
   },
   {
    "duration": 3,
    "start_time": "2022-12-09T14:20:55.583Z"
   },
   {
    "duration": 120,
    "start_time": "2022-12-09T14:20:58.826Z"
   },
   {
    "duration": 28,
    "start_time": "2022-12-09T14:20:58.948Z"
   },
   {
    "duration": 500,
    "start_time": "2022-12-09T14:20:58.977Z"
   },
   {
    "duration": 26,
    "start_time": "2022-12-09T14:20:59.479Z"
   },
   {
    "duration": 27,
    "start_time": "2022-12-09T14:20:59.509Z"
   },
   {
    "duration": 24,
    "start_time": "2022-12-09T14:20:59.537Z"
   },
   {
    "duration": 4,
    "start_time": "2022-12-09T14:20:59.562Z"
   },
   {
    "duration": 6,
    "start_time": "2022-12-09T14:20:59.568Z"
   },
   {
    "duration": 51,
    "start_time": "2022-12-09T14:20:59.576Z"
   },
   {
    "duration": 115,
    "start_time": "2022-12-09T14:20:59.628Z"
   },
   {
    "duration": 141,
    "start_time": "2022-12-09T14:20:59.745Z"
   },
   {
    "duration": 5,
    "start_time": "2022-12-09T14:20:59.887Z"
   },
   {
    "duration": 33,
    "start_time": "2022-12-09T14:20:59.893Z"
   },
   {
    "duration": 5,
    "start_time": "2022-12-09T14:20:59.930Z"
   },
   {
    "duration": 19,
    "start_time": "2022-12-09T14:20:59.937Z"
   },
   {
    "duration": 17,
    "start_time": "2022-12-09T14:20:59.958Z"
   },
   {
    "duration": 194,
    "start_time": "2022-12-09T14:20:59.977Z"
   },
   {
    "duration": 208,
    "start_time": "2022-12-09T14:21:00.173Z"
   },
   {
    "duration": 200,
    "start_time": "2022-12-09T14:21:00.383Z"
   },
   {
    "duration": 194,
    "start_time": "2022-12-09T14:21:00.585Z"
   },
   {
    "duration": 215,
    "start_time": "2022-12-09T14:21:00.781Z"
   },
   {
    "duration": 183,
    "start_time": "2022-12-09T14:21:00.998Z"
   },
   {
    "duration": 173,
    "start_time": "2022-12-09T14:21:01.183Z"
   },
   {
    "duration": 166,
    "start_time": "2022-12-09T14:21:01.358Z"
   },
   {
    "duration": 6,
    "start_time": "2022-12-09T14:21:01.526Z"
   },
   {
    "duration": 189,
    "start_time": "2022-12-09T14:21:01.534Z"
   },
   {
    "duration": 164,
    "start_time": "2022-12-09T14:21:01.725Z"
   },
   {
    "duration": 158,
    "start_time": "2022-12-09T14:21:01.890Z"
   },
   {
    "duration": 181,
    "start_time": "2022-12-09T14:21:02.050Z"
   },
   {
    "duration": 162,
    "start_time": "2022-12-09T14:21:02.232Z"
   },
   {
    "duration": 159,
    "start_time": "2022-12-09T14:21:02.395Z"
   },
   {
    "duration": 172,
    "start_time": "2022-12-09T14:21:02.556Z"
   },
   {
    "duration": 229,
    "start_time": "2022-12-09T14:21:02.729Z"
   },
   {
    "duration": 232,
    "start_time": "2022-12-09T14:21:02.959Z"
   },
   {
    "duration": 205,
    "start_time": "2022-12-09T14:21:03.193Z"
   },
   {
    "duration": 163,
    "start_time": "2022-12-09T14:21:03.400Z"
   },
   {
    "duration": 415,
    "start_time": "2022-12-09T14:21:03.565Z"
   },
   {
    "duration": 213,
    "start_time": "2022-12-09T14:21:03.981Z"
   },
   {
    "duration": 205,
    "start_time": "2022-12-09T14:21:04.196Z"
   },
   {
    "duration": 14,
    "start_time": "2022-12-09T14:21:04.406Z"
   },
   {
    "duration": 15,
    "start_time": "2022-12-09T14:21:04.424Z"
   },
   {
    "duration": 158,
    "start_time": "2022-12-09T14:21:04.440Z"
   },
   {
    "duration": 182,
    "start_time": "2022-12-09T14:21:22.889Z"
   },
   {
    "duration": 248,
    "start_time": "2022-12-09T14:23:17.441Z"
   },
   {
    "duration": 184,
    "start_time": "2022-12-09T14:23:25.751Z"
   },
   {
    "duration": 193,
    "start_time": "2022-12-09T14:23:34.776Z"
   },
   {
    "duration": 177,
    "start_time": "2022-12-09T14:25:20.984Z"
   },
   {
    "duration": 152,
    "start_time": "2022-12-09T14:26:34.229Z"
   },
   {
    "duration": 169,
    "start_time": "2022-12-09T14:26:40.083Z"
   },
   {
    "duration": 140,
    "start_time": "2022-12-09T14:27:45.481Z"
   },
   {
    "duration": 141,
    "start_time": "2022-12-09T14:28:00.850Z"
   },
   {
    "duration": 149,
    "start_time": "2022-12-09T14:28:09.109Z"
   },
   {
    "duration": 174,
    "start_time": "2022-12-09T14:31:28.149Z"
   },
   {
    "duration": 278,
    "start_time": "2022-12-09T14:31:54.456Z"
   },
   {
    "duration": 162,
    "start_time": "2022-12-09T14:32:58.945Z"
   },
   {
    "duration": 165,
    "start_time": "2022-12-09T14:34:11.898Z"
   },
   {
    "duration": 143,
    "start_time": "2022-12-09T14:35:07.150Z"
   },
   {
    "duration": 21,
    "start_time": "2022-12-09T14:38:15.360Z"
   },
   {
    "duration": 12,
    "start_time": "2022-12-09T14:38:20.192Z"
   },
   {
    "duration": 15,
    "start_time": "2022-12-09T14:38:37.771Z"
   },
   {
    "duration": 12,
    "start_time": "2022-12-09T14:38:57.019Z"
   },
   {
    "duration": 26,
    "start_time": "2022-12-09T14:39:29.043Z"
   },
   {
    "duration": 32,
    "start_time": "2022-12-09T14:40:24.306Z"
   },
   {
    "duration": 8,
    "start_time": "2022-12-09T14:41:00.153Z"
   },
   {
    "duration": 10,
    "start_time": "2022-12-09T14:41:10.036Z"
   },
   {
    "duration": 6,
    "start_time": "2022-12-09T14:41:52.185Z"
   },
   {
    "duration": 8,
    "start_time": "2022-12-09T14:42:02.837Z"
   },
   {
    "duration": 10,
    "start_time": "2022-12-09T14:42:14.505Z"
   },
   {
    "duration": 15,
    "start_time": "2022-12-09T14:42:22.291Z"
   },
   {
    "duration": 68,
    "start_time": "2022-12-09T14:44:58.031Z"
   },
   {
    "duration": 77,
    "start_time": "2022-12-09T14:45:27.932Z"
   },
   {
    "duration": 288,
    "start_time": "2022-12-09T14:45:44.551Z"
   },
   {
    "duration": 72,
    "start_time": "2022-12-09T14:46:43.357Z"
   },
   {
    "duration": 128,
    "start_time": "2022-12-09T14:46:53.127Z"
   },
   {
    "duration": 314,
    "start_time": "2022-12-09T14:48:14.829Z"
   },
   {
    "duration": 136,
    "start_time": "2022-12-09T14:48:25.681Z"
   },
   {
    "duration": 16,
    "start_time": "2022-12-09T14:48:36.430Z"
   },
   {
    "duration": 131,
    "start_time": "2022-12-09T14:49:25.349Z"
   },
   {
    "duration": 21,
    "start_time": "2022-12-09T14:50:59.626Z"
   },
   {
    "duration": 19,
    "start_time": "2022-12-09T14:51:22.695Z"
   },
   {
    "duration": 138,
    "start_time": "2022-12-09T14:51:25.507Z"
   },
   {
    "duration": 14,
    "start_time": "2022-12-09T14:53:16.418Z"
   },
   {
    "duration": 14,
    "start_time": "2022-12-09T14:53:27.480Z"
   },
   {
    "duration": 15,
    "start_time": "2022-12-09T14:54:17.537Z"
   },
   {
    "duration": 72,
    "start_time": "2022-12-09T14:54:49.998Z"
   },
   {
    "duration": 16,
    "start_time": "2022-12-09T14:56:53.767Z"
   },
   {
    "duration": 16,
    "start_time": "2022-12-09T14:56:56.914Z"
   },
   {
    "duration": 20,
    "start_time": "2022-12-09T14:57:35.302Z"
   },
   {
    "duration": 3,
    "start_time": "2022-12-09T14:57:42.364Z"
   },
   {
    "duration": 15,
    "start_time": "2022-12-09T14:57:43.868Z"
   },
   {
    "duration": 4,
    "start_time": "2022-12-09T14:57:48.007Z"
   },
   {
    "duration": 9,
    "start_time": "2022-12-09T14:57:54.864Z"
   },
   {
    "duration": 11,
    "start_time": "2022-12-09T14:58:15.268Z"
   },
   {
    "duration": 7,
    "start_time": "2022-12-09T14:58:29.512Z"
   },
   {
    "duration": 7,
    "start_time": "2022-12-09T14:58:34.419Z"
   },
   {
    "duration": 16,
    "start_time": "2022-12-09T15:00:40.083Z"
   },
   {
    "duration": 15,
    "start_time": "2022-12-09T15:01:44.243Z"
   },
   {
    "duration": 11,
    "start_time": "2022-12-09T15:02:56.050Z"
   },
   {
    "duration": 11,
    "start_time": "2022-12-09T15:03:33.573Z"
   },
   {
    "duration": 12,
    "start_time": "2022-12-09T15:04:45.504Z"
   },
   {
    "duration": 20,
    "start_time": "2022-12-09T15:04:51.760Z"
   },
   {
    "duration": 93,
    "start_time": "2022-12-09T15:04:56.109Z"
   },
   {
    "duration": 12,
    "start_time": "2022-12-09T15:04:59.521Z"
   },
   {
    "duration": 18,
    "start_time": "2022-12-09T15:05:13.141Z"
   },
   {
    "duration": 17,
    "start_time": "2022-12-09T15:05:18.785Z"
   },
   {
    "duration": 10,
    "start_time": "2022-12-09T15:05:21.479Z"
   },
   {
    "duration": 15,
    "start_time": "2022-12-09T15:06:37.397Z"
   },
   {
    "duration": 20,
    "start_time": "2022-12-09T15:06:52.655Z"
   },
   {
    "duration": 12,
    "start_time": "2022-12-09T15:06:55.081Z"
   },
   {
    "duration": 11,
    "start_time": "2022-12-09T15:06:59.925Z"
   },
   {
    "duration": 307,
    "start_time": "2022-12-09T15:07:04.026Z"
   },
   {
    "duration": 13,
    "start_time": "2022-12-09T15:07:12.961Z"
   },
   {
    "duration": 10,
    "start_time": "2022-12-09T15:07:24.713Z"
   },
   {
    "duration": 11,
    "start_time": "2022-12-09T15:08:01.020Z"
   },
   {
    "duration": 11,
    "start_time": "2022-12-09T15:08:34.833Z"
   },
   {
    "duration": 10,
    "start_time": "2022-12-09T15:08:51.876Z"
   },
   {
    "duration": 12,
    "start_time": "2022-12-09T15:09:11.873Z"
   },
   {
    "duration": 15,
    "start_time": "2022-12-09T15:09:18.078Z"
   },
   {
    "duration": 25,
    "start_time": "2022-12-09T15:09:35.016Z"
   },
   {
    "duration": 10,
    "start_time": "2022-12-09T15:10:14.769Z"
   },
   {
    "duration": 3,
    "start_time": "2022-12-09T15:11:57.039Z"
   },
   {
    "duration": 14,
    "start_time": "2022-12-09T15:13:08.751Z"
   },
   {
    "duration": 12,
    "start_time": "2022-12-09T15:13:11.711Z"
   },
   {
    "duration": 16,
    "start_time": "2022-12-09T15:13:18.838Z"
   },
   {
    "duration": 7,
    "start_time": "2022-12-09T15:15:42.480Z"
   },
   {
    "duration": 11,
    "start_time": "2022-12-09T15:15:57.305Z"
   },
   {
    "duration": 20,
    "start_time": "2022-12-09T15:16:03.434Z"
   },
   {
    "duration": 9,
    "start_time": "2022-12-09T15:17:05.005Z"
   },
   {
    "duration": 16,
    "start_time": "2022-12-09T15:17:15.353Z"
   },
   {
    "duration": 16,
    "start_time": "2022-12-09T15:21:18.611Z"
   },
   {
    "duration": 22,
    "start_time": "2022-12-09T15:21:23.239Z"
   },
   {
    "duration": 21,
    "start_time": "2022-12-09T15:21:31.973Z"
   },
   {
    "duration": 16,
    "start_time": "2022-12-09T15:22:26.548Z"
   },
   {
    "duration": 15,
    "start_time": "2022-12-09T15:22:36.282Z"
   },
   {
    "duration": 23,
    "start_time": "2022-12-09T15:22:44.018Z"
   },
   {
    "duration": 72,
    "start_time": "2022-12-09T15:23:19.807Z"
   },
   {
    "duration": 92,
    "start_time": "2022-12-09T15:23:23.643Z"
   },
   {
    "duration": 19,
    "start_time": "2022-12-09T15:23:26.828Z"
   },
   {
    "duration": 21,
    "start_time": "2022-12-09T15:23:44.371Z"
   },
   {
    "duration": 20,
    "start_time": "2022-12-09T15:24:22.626Z"
   },
   {
    "duration": 23,
    "start_time": "2022-12-09T15:24:29.389Z"
   },
   {
    "duration": 15,
    "start_time": "2022-12-09T15:26:02.921Z"
   },
   {
    "duration": 75,
    "start_time": "2022-12-09T15:26:09.482Z"
   },
   {
    "duration": 23,
    "start_time": "2022-12-09T15:26:12.242Z"
   },
   {
    "duration": 21,
    "start_time": "2022-12-09T15:29:59.953Z"
   },
   {
    "duration": 13,
    "start_time": "2022-12-09T15:30:12.792Z"
   },
   {
    "duration": 23,
    "start_time": "2022-12-09T15:30:18.576Z"
   },
   {
    "duration": 21,
    "start_time": "2022-12-09T15:30:36.078Z"
   },
   {
    "duration": 38,
    "start_time": "2022-12-09T15:30:45.819Z"
   },
   {
    "duration": 4194,
    "start_time": "2022-12-09T15:31:20.744Z"
   },
   {
    "duration": 49,
    "start_time": "2022-12-09T15:32:02.695Z"
   },
   {
    "duration": 4218,
    "start_time": "2022-12-09T15:32:13.150Z"
   },
   {
    "duration": 17,
    "start_time": "2022-12-09T15:32:34.668Z"
   },
   {
    "duration": 14,
    "start_time": "2022-12-09T15:33:08.813Z"
   },
   {
    "duration": 19,
    "start_time": "2022-12-09T15:34:54.667Z"
   },
   {
    "duration": 186,
    "start_time": "2022-12-09T15:35:08.573Z"
   },
   {
    "duration": 22,
    "start_time": "2022-12-09T15:35:13.611Z"
   },
   {
    "duration": 19,
    "start_time": "2022-12-09T15:35:22.051Z"
   },
   {
    "duration": 20,
    "start_time": "2022-12-09T15:35:25.046Z"
   },
   {
    "duration": 19,
    "start_time": "2022-12-09T15:35:30.450Z"
   },
   {
    "duration": 77,
    "start_time": "2022-12-09T15:35:39.030Z"
   },
   {
    "duration": 20,
    "start_time": "2022-12-09T15:35:41.891Z"
   },
   {
    "duration": 33,
    "start_time": "2022-12-09T15:35:47.699Z"
   },
   {
    "duration": 18,
    "start_time": "2022-12-09T15:37:03.864Z"
   },
   {
    "duration": 24,
    "start_time": "2022-12-09T15:37:07.512Z"
   },
   {
    "duration": 25,
    "start_time": "2022-12-09T15:37:10.186Z"
   },
   {
    "duration": 23,
    "start_time": "2022-12-09T15:38:19.715Z"
   },
   {
    "duration": 21,
    "start_time": "2022-12-09T15:38:26.969Z"
   },
   {
    "duration": 18,
    "start_time": "2022-12-09T15:38:33.929Z"
   },
   {
    "duration": 86,
    "start_time": "2022-12-09T15:40:30.516Z"
   },
   {
    "duration": 20,
    "start_time": "2022-12-09T15:40:33.447Z"
   },
   {
    "duration": 20,
    "start_time": "2022-12-09T15:40:46.420Z"
   },
   {
    "duration": 18,
    "start_time": "2022-12-09T15:40:57.535Z"
   },
   {
    "duration": 27,
    "start_time": "2022-12-09T15:41:26.353Z"
   },
   {
    "duration": 24,
    "start_time": "2022-12-09T15:41:41.222Z"
   },
   {
    "duration": 25,
    "start_time": "2022-12-09T15:41:48.619Z"
   },
   {
    "duration": 193,
    "start_time": "2022-12-09T15:45:19.117Z"
   },
   {
    "duration": 30,
    "start_time": "2022-12-09T15:45:47.317Z"
   },
   {
    "duration": 27,
    "start_time": "2022-12-09T15:48:00.134Z"
   },
   {
    "duration": 28,
    "start_time": "2022-12-09T15:48:08.541Z"
   },
   {
    "duration": 24,
    "start_time": "2022-12-09T15:49:01.122Z"
   },
   {
    "duration": 20,
    "start_time": "2022-12-09T15:49:10.195Z"
   },
   {
    "duration": 23,
    "start_time": "2022-12-09T15:49:16.161Z"
   },
   {
    "duration": 174,
    "start_time": "2022-12-09T15:49:26.113Z"
   },
   {
    "duration": 26,
    "start_time": "2022-12-09T15:49:50.079Z"
   },
   {
    "duration": 31,
    "start_time": "2022-12-09T15:50:19.950Z"
   },
   {
    "duration": 21,
    "start_time": "2022-12-09T15:51:04.061Z"
   },
   {
    "duration": 20,
    "start_time": "2022-12-09T15:51:36.767Z"
   },
   {
    "duration": 18,
    "start_time": "2022-12-09T15:52:03.583Z"
   },
   {
    "duration": 242,
    "start_time": "2022-12-09T15:52:12.041Z"
   },
   {
    "duration": 156,
    "start_time": "2022-12-09T15:52:46.963Z"
   },
   {
    "duration": 174,
    "start_time": "2022-12-09T15:53:03.011Z"
   },
   {
    "duration": 166,
    "start_time": "2022-12-09T15:53:35.120Z"
   },
   {
    "duration": 225,
    "start_time": "2022-12-09T15:53:48.146Z"
   }
  ],
  "kernelspec": {
   "display_name": "Python 3 (ipykernel)",
   "language": "python",
   "name": "python3"
  },
  "language_info": {
   "codemirror_mode": {
    "name": "ipython",
    "version": 3
   },
   "file_extension": ".py",
   "mimetype": "text/x-python",
   "name": "python",
   "nbconvert_exporter": "python",
   "pygments_lexer": "ipython3",
   "version": "3.9.13"
  },
  "toc": {
   "base_numbering": 1,
   "nav_menu": {},
   "number_sections": true,
   "sideBar": true,
   "skip_h1_title": true,
   "title_cell": "Table of Contents",
   "title_sidebar": "Contents",
   "toc_cell": false,
   "toc_position": {},
   "toc_section_display": true,
   "toc_window_display": false
  }
 },
 "nbformat": 4,
 "nbformat_minor": 2
}
